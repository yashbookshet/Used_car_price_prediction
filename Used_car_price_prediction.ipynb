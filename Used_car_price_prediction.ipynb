{
 "cells": [
  {
   "cell_type": "code",
   "execution_count": 1,
   "id": "f34411c8",
   "metadata": {
    "id": "f34411c8"
   },
   "outputs": [],
   "source": [
    "import pandas as pd\n",
    "import numpy as np\n",
    "import seaborn as sns"
   ]
  },
  {
   "cell_type": "code",
   "execution_count": 5,
   "id": "DpPEcbi9ej71",
   "metadata": {
    "colab": {
     "base_uri": "https://localhost:8080/"
    },
    "id": "DpPEcbi9ej71",
    "outputId": "9a1f4288-ef01-4e5d-fba0-f698d8def1b7"
   },
   "outputs": [
    {
     "name": "stdout",
     "output_type": "stream",
     "text": [
      "Mounted at /content/drive\n"
     ]
    }
   ],
   "source": [
    "#from google.colab import drive\n",
    "#drive.mount('/content/drive')"
   ]
  },
  {
   "cell_type": "code",
   "execution_count": 2,
   "id": "647c2667",
   "metadata": {
    "id": "647c2667"
   },
   "outputs": [],
   "source": [
    "file = \"Downloads/used-cars-database/autos.csv\" \n",
    "df = pd.read_csv(\"autos.csv\",encoding='ISO-8859-1')"
   ]
  },
  {
   "cell_type": "code",
   "execution_count": 7,
   "id": "b0ce6fee",
   "metadata": {
    "id": "b0ce6fee"
   },
   "outputs": [],
   "source": [
    "#df = pd.read_csv(\"/content/drive/MyDrive/Project/autos.csv\",encoding='ISO-8859-1')"
   ]
  },
  {
   "cell_type": "code",
   "execution_count": 3,
   "id": "500a1d35",
   "metadata": {
    "colab": {
     "base_uri": "https://localhost:8080/",
     "height": 444
    },
    "id": "500a1d35",
    "outputId": "791e0682-a8a6-4103-e9cd-acf00fc9ad90"
   },
   "outputs": [
    {
     "data": {
      "text/html": [
       "<div>\n",
       "<style scoped>\n",
       "    .dataframe tbody tr th:only-of-type {\n",
       "        vertical-align: middle;\n",
       "    }\n",
       "\n",
       "    .dataframe tbody tr th {\n",
       "        vertical-align: top;\n",
       "    }\n",
       "\n",
       "    .dataframe thead th {\n",
       "        text-align: right;\n",
       "    }\n",
       "</style>\n",
       "<table border=\"1\" class=\"dataframe\">\n",
       "  <thead>\n",
       "    <tr style=\"text-align: right;\">\n",
       "      <th></th>\n",
       "      <th>dateCrawled</th>\n",
       "      <th>name</th>\n",
       "      <th>seller</th>\n",
       "      <th>offerType</th>\n",
       "      <th>price</th>\n",
       "      <th>abtest</th>\n",
       "      <th>vehicleType</th>\n",
       "      <th>yearOfRegistration</th>\n",
       "      <th>gearbox</th>\n",
       "      <th>powerPS</th>\n",
       "      <th>model</th>\n",
       "      <th>kilometer</th>\n",
       "      <th>monthOfRegistration</th>\n",
       "      <th>fuelType</th>\n",
       "      <th>brand</th>\n",
       "      <th>notRepairedDamage</th>\n",
       "      <th>dateCreated</th>\n",
       "      <th>nrOfPictures</th>\n",
       "      <th>postalCode</th>\n",
       "      <th>lastSeen</th>\n",
       "    </tr>\n",
       "  </thead>\n",
       "  <tbody>\n",
       "    <tr>\n",
       "      <th>0</th>\n",
       "      <td>2016-03-24 11:52:17</td>\n",
       "      <td>Golf_3_1.6</td>\n",
       "      <td>privat</td>\n",
       "      <td>Angebot</td>\n",
       "      <td>480</td>\n",
       "      <td>test</td>\n",
       "      <td>NaN</td>\n",
       "      <td>1993</td>\n",
       "      <td>manuell</td>\n",
       "      <td>0</td>\n",
       "      <td>golf</td>\n",
       "      <td>150000</td>\n",
       "      <td>0</td>\n",
       "      <td>benzin</td>\n",
       "      <td>volkswagen</td>\n",
       "      <td>NaN</td>\n",
       "      <td>2016-03-24 00:00:00</td>\n",
       "      <td>0</td>\n",
       "      <td>70435</td>\n",
       "      <td>2016-04-07 03:16:57</td>\n",
       "    </tr>\n",
       "    <tr>\n",
       "      <th>1</th>\n",
       "      <td>2016-03-24 10:58:45</td>\n",
       "      <td>A5_Sportback_2.7_Tdi</td>\n",
       "      <td>privat</td>\n",
       "      <td>Angebot</td>\n",
       "      <td>18300</td>\n",
       "      <td>test</td>\n",
       "      <td>coupe</td>\n",
       "      <td>2011</td>\n",
       "      <td>manuell</td>\n",
       "      <td>190</td>\n",
       "      <td>NaN</td>\n",
       "      <td>125000</td>\n",
       "      <td>5</td>\n",
       "      <td>diesel</td>\n",
       "      <td>audi</td>\n",
       "      <td>ja</td>\n",
       "      <td>2016-03-24 00:00:00</td>\n",
       "      <td>0</td>\n",
       "      <td>66954</td>\n",
       "      <td>2016-04-07 01:46:50</td>\n",
       "    </tr>\n",
       "    <tr>\n",
       "      <th>2</th>\n",
       "      <td>2016-03-14 12:52:21</td>\n",
       "      <td>Jeep_Grand_Cherokee_\"Overland\"</td>\n",
       "      <td>privat</td>\n",
       "      <td>Angebot</td>\n",
       "      <td>9800</td>\n",
       "      <td>test</td>\n",
       "      <td>suv</td>\n",
       "      <td>2004</td>\n",
       "      <td>automatik</td>\n",
       "      <td>163</td>\n",
       "      <td>grand</td>\n",
       "      <td>125000</td>\n",
       "      <td>8</td>\n",
       "      <td>diesel</td>\n",
       "      <td>jeep</td>\n",
       "      <td>NaN</td>\n",
       "      <td>2016-03-14 00:00:00</td>\n",
       "      <td>0</td>\n",
       "      <td>90480</td>\n",
       "      <td>2016-04-05 12:47:46</td>\n",
       "    </tr>\n",
       "    <tr>\n",
       "      <th>3</th>\n",
       "      <td>2016-03-17 16:54:04</td>\n",
       "      <td>GOLF_4_1_4__3TÜRER</td>\n",
       "      <td>privat</td>\n",
       "      <td>Angebot</td>\n",
       "      <td>1500</td>\n",
       "      <td>test</td>\n",
       "      <td>kleinwagen</td>\n",
       "      <td>2001</td>\n",
       "      <td>manuell</td>\n",
       "      <td>75</td>\n",
       "      <td>golf</td>\n",
       "      <td>150000</td>\n",
       "      <td>6</td>\n",
       "      <td>benzin</td>\n",
       "      <td>volkswagen</td>\n",
       "      <td>nein</td>\n",
       "      <td>2016-03-17 00:00:00</td>\n",
       "      <td>0</td>\n",
       "      <td>91074</td>\n",
       "      <td>2016-03-17 17:40:17</td>\n",
       "    </tr>\n",
       "    <tr>\n",
       "      <th>4</th>\n",
       "      <td>2016-03-31 17:25:20</td>\n",
       "      <td>Skoda_Fabia_1.4_TDI_PD_Classic</td>\n",
       "      <td>privat</td>\n",
       "      <td>Angebot</td>\n",
       "      <td>3600</td>\n",
       "      <td>test</td>\n",
       "      <td>kleinwagen</td>\n",
       "      <td>2008</td>\n",
       "      <td>manuell</td>\n",
       "      <td>69</td>\n",
       "      <td>fabia</td>\n",
       "      <td>90000</td>\n",
       "      <td>7</td>\n",
       "      <td>diesel</td>\n",
       "      <td>skoda</td>\n",
       "      <td>nein</td>\n",
       "      <td>2016-03-31 00:00:00</td>\n",
       "      <td>0</td>\n",
       "      <td>60437</td>\n",
       "      <td>2016-04-06 10:17:21</td>\n",
       "    </tr>\n",
       "  </tbody>\n",
       "</table>\n",
       "</div>"
      ],
      "text/plain": [
       "           dateCrawled                            name  seller offerType  \\\n",
       "0  2016-03-24 11:52:17                      Golf_3_1.6  privat   Angebot   \n",
       "1  2016-03-24 10:58:45            A5_Sportback_2.7_Tdi  privat   Angebot   \n",
       "2  2016-03-14 12:52:21  Jeep_Grand_Cherokee_\"Overland\"  privat   Angebot   \n",
       "3  2016-03-17 16:54:04              GOLF_4_1_4__3TÜRER  privat   Angebot   \n",
       "4  2016-03-31 17:25:20  Skoda_Fabia_1.4_TDI_PD_Classic  privat   Angebot   \n",
       "\n",
       "   price abtest vehicleType  yearOfRegistration    gearbox  powerPS  model  \\\n",
       "0    480   test         NaN                1993    manuell        0   golf   \n",
       "1  18300   test       coupe                2011    manuell      190    NaN   \n",
       "2   9800   test         suv                2004  automatik      163  grand   \n",
       "3   1500   test  kleinwagen                2001    manuell       75   golf   \n",
       "4   3600   test  kleinwagen                2008    manuell       69  fabia   \n",
       "\n",
       "   kilometer  monthOfRegistration fuelType       brand notRepairedDamage  \\\n",
       "0     150000                    0   benzin  volkswagen               NaN   \n",
       "1     125000                    5   diesel        audi                ja   \n",
       "2     125000                    8   diesel        jeep               NaN   \n",
       "3     150000                    6   benzin  volkswagen              nein   \n",
       "4      90000                    7   diesel       skoda              nein   \n",
       "\n",
       "           dateCreated  nrOfPictures  postalCode             lastSeen  \n",
       "0  2016-03-24 00:00:00             0       70435  2016-04-07 03:16:57  \n",
       "1  2016-03-24 00:00:00             0       66954  2016-04-07 01:46:50  \n",
       "2  2016-03-14 00:00:00             0       90480  2016-04-05 12:47:46  \n",
       "3  2016-03-17 00:00:00             0       91074  2016-03-17 17:40:17  \n",
       "4  2016-03-31 00:00:00             0       60437  2016-04-06 10:17:21  "
      ]
     },
     "execution_count": 3,
     "metadata": {},
     "output_type": "execute_result"
    }
   ],
   "source": [
    "df.head()"
   ]
  },
  {
   "cell_type": "code",
   "execution_count": 4,
   "id": "e09c100c",
   "metadata": {
    "colab": {
     "base_uri": "https://localhost:8080/"
    },
    "id": "e09c100c",
    "outputId": "33146286-4821-404d-e293-7dcecf8d2284"
   },
   "outputs": [
    {
     "data": {
      "text/plain": [
       "(371528, 20)"
      ]
     },
     "execution_count": 4,
     "metadata": {},
     "output_type": "execute_result"
    }
   ],
   "source": [
    "df.shape"
   ]
  },
  {
   "cell_type": "code",
   "execution_count": 5,
   "id": "0c5485e6",
   "metadata": {
    "colab": {
     "base_uri": "https://localhost:8080/"
    },
    "id": "0c5485e6",
    "outputId": "cd16a026-f5fa-4c8b-c95c-d5b1fea6ebcb"
   },
   "outputs": [
    {
     "name": "stdout",
     "output_type": "stream",
     "text": [
      "<class 'pandas.core.frame.DataFrame'>\n",
      "RangeIndex: 371528 entries, 0 to 371527\n",
      "Data columns (total 20 columns):\n",
      " #   Column               Non-Null Count   Dtype \n",
      "---  ------               --------------   ----- \n",
      " 0   dateCrawled          371528 non-null  object\n",
      " 1   name                 371528 non-null  object\n",
      " 2   seller               371528 non-null  object\n",
      " 3   offerType            371528 non-null  object\n",
      " 4   price                371528 non-null  int64 \n",
      " 5   abtest               371528 non-null  object\n",
      " 6   vehicleType          333659 non-null  object\n",
      " 7   yearOfRegistration   371528 non-null  int64 \n",
      " 8   gearbox              351319 non-null  object\n",
      " 9   powerPS              371528 non-null  int64 \n",
      " 10  model                351044 non-null  object\n",
      " 11  kilometer            371528 non-null  int64 \n",
      " 12  monthOfRegistration  371528 non-null  int64 \n",
      " 13  fuelType             338142 non-null  object\n",
      " 14  brand                371528 non-null  object\n",
      " 15  notRepairedDamage    299468 non-null  object\n",
      " 16  dateCreated          371528 non-null  object\n",
      " 17  nrOfPictures         371528 non-null  int64 \n",
      " 18  postalCode           371528 non-null  int64 \n",
      " 19  lastSeen             371528 non-null  object\n",
      "dtypes: int64(7), object(13)\n",
      "memory usage: 56.7+ MB\n"
     ]
    }
   ],
   "source": [
    "df.info()"
   ]
  },
  {
   "cell_type": "code",
   "execution_count": 6,
   "id": "30c1705a",
   "metadata": {
    "colab": {
     "base_uri": "https://localhost:8080/"
    },
    "id": "30c1705a",
    "outputId": "c8cc6c8b-0750-445e-d1e0-3f7742b48868"
   },
   "outputs": [
    {
     "data": {
      "text/plain": [
       "dateCrawled                0\n",
       "name                       0\n",
       "seller                     0\n",
       "offerType                  0\n",
       "price                      0\n",
       "abtest                     0\n",
       "vehicleType            37869\n",
       "yearOfRegistration         0\n",
       "gearbox                20209\n",
       "powerPS                    0\n",
       "model                  20484\n",
       "kilometer                  0\n",
       "monthOfRegistration        0\n",
       "fuelType               33386\n",
       "brand                      0\n",
       "notRepairedDamage      72060\n",
       "dateCreated                0\n",
       "nrOfPictures               0\n",
       "postalCode                 0\n",
       "lastSeen                   0\n",
       "dtype: int64"
      ]
     },
     "execution_count": 6,
     "metadata": {},
     "output_type": "execute_result"
    }
   ],
   "source": [
    "df.isnull().sum()"
   ]
  },
  {
   "cell_type": "code",
   "execution_count": 7,
   "id": "949899e7",
   "metadata": {
    "id": "949899e7"
   },
   "outputs": [],
   "source": [
    "missing_value=[\"N/a\",\"na\",np.nan]\n",
    "#df=pd.read_csv(\"/content/drive/MyDrive/Project/autos.csv\",encoding='ISO-8859-1',na_values=missing_value)\n",
    "df=pd.read_csv(\"autos.csv\",encoding='ISO-8859-1',na_values=missing_value)"
   ]
  },
  {
   "cell_type": "code",
   "execution_count": 8,
   "id": "7eb4433d",
   "metadata": {
    "colab": {
     "base_uri": "https://localhost:8080/"
    },
    "id": "7eb4433d",
    "outputId": "5c2285af-2b30-4c69-83e1-52ca29b62581"
   },
   "outputs": [
    {
     "data": {
      "text/plain": [
       "dateCrawled                0\n",
       "name                       0\n",
       "seller                     0\n",
       "offerType                  0\n",
       "price                      0\n",
       "abtest                     0\n",
       "vehicleType            37869\n",
       "yearOfRegistration         0\n",
       "gearbox                20209\n",
       "powerPS                    0\n",
       "model                  20484\n",
       "kilometer                  0\n",
       "monthOfRegistration        0\n",
       "fuelType               33386\n",
       "brand                      0\n",
       "notRepairedDamage      72060\n",
       "dateCreated                0\n",
       "nrOfPictures               0\n",
       "postalCode                 0\n",
       "lastSeen                   0\n",
       "dtype: int64"
      ]
     },
     "execution_count": 8,
     "metadata": {},
     "output_type": "execute_result"
    }
   ],
   "source": [
    "df.isnull().sum()"
   ]
  },
  {
   "cell_type": "code",
   "execution_count": 9,
   "id": "3fb657de",
   "metadata": {
    "id": "3fb657de"
   },
   "outputs": [],
   "source": [
    "percent_missing = df.isnull().sum() * 100 / len(df)\n",
    "missing_value_df = pd.DataFrame({'column_name': df.columns,\n",
    "                                 'percent_missing': percent_missing})"
   ]
  },
  {
   "cell_type": "code",
   "execution_count": 10,
   "id": "53769460",
   "metadata": {
    "colab": {
     "base_uri": "https://localhost:8080/"
    },
    "id": "53769460",
    "outputId": "49a50680-ed7e-46cc-c7d7-eac265d613f9"
   },
   "outputs": [
    {
     "data": {
      "text/plain": [
       "dateCrawled             0.000000\n",
       "name                    0.000000\n",
       "seller                  0.000000\n",
       "offerType               0.000000\n",
       "price                   0.000000\n",
       "abtest                  0.000000\n",
       "vehicleType            10.192771\n",
       "yearOfRegistration      0.000000\n",
       "gearbox                 5.439429\n",
       "powerPS                 0.000000\n",
       "model                   5.513447\n",
       "kilometer               0.000000\n",
       "monthOfRegistration     0.000000\n",
       "fuelType                8.986133\n",
       "brand                   0.000000\n",
       "notRepairedDamage      19.395577\n",
       "dateCreated             0.000000\n",
       "nrOfPictures            0.000000\n",
       "postalCode              0.000000\n",
       "lastSeen                0.000000\n",
       "dtype: float64"
      ]
     },
     "execution_count": 10,
     "metadata": {},
     "output_type": "execute_result"
    }
   ],
   "source": [
    "percent_missing"
   ]
  },
  {
   "cell_type": "code",
   "execution_count": 11,
   "id": "b7e1427e",
   "metadata": {
    "colab": {
     "base_uri": "https://localhost:8080/"
    },
    "id": "b7e1427e",
    "outputId": "2373f9e5-5894-4941-ec47-937425ee0712"
   },
   "outputs": [
    {
     "data": {
      "text/plain": [
       "dateCrawled                 0\n",
       "name                        0\n",
       "seller                      0\n",
       "offerType                   0\n",
       "price                   10778\n",
       "abtest                      0\n",
       "vehicleType                 0\n",
       "yearOfRegistration          0\n",
       "gearbox                     0\n",
       "powerPS                 40820\n",
       "model                       0\n",
       "kilometer                   0\n",
       "monthOfRegistration     37675\n",
       "fuelType                    0\n",
       "brand                       0\n",
       "notRepairedDamage           0\n",
       "dateCreated                 0\n",
       "nrOfPictures           371528\n",
       "postalCode                  0\n",
       "lastSeen                    0\n",
       "dtype: int64"
      ]
     },
     "execution_count": 11,
     "metadata": {},
     "output_type": "execute_result"
    }
   ],
   "source": [
    "(df==0).sum()"
   ]
  },
  {
   "cell_type": "code",
   "execution_count": 12,
   "id": "01499928",
   "metadata": {
    "id": "01499928"
   },
   "outputs": [],
   "source": [
    "df1 = df.copy()"
   ]
  },
  {
   "cell_type": "code",
   "execution_count": 13,
   "id": "f7e8a4dc",
   "metadata": {
    "colab": {
     "base_uri": "https://localhost:8080/"
    },
    "id": "f7e8a4dc",
    "outputId": "9c02eddb-3c92-4152-b5fd-e7515a08a741"
   },
   "outputs": [
    {
     "data": {
      "text/plain": [
       "Index(['dateCrawled', 'name', 'seller', 'offerType', 'price', 'abtest',\n",
       "       'vehicleType', 'yearOfRegistration', 'gearbox', 'powerPS', 'model',\n",
       "       'kilometer', 'monthOfRegistration', 'fuelType', 'brand',\n",
       "       'notRepairedDamage', 'dateCreated', 'nrOfPictures', 'postalCode',\n",
       "       'lastSeen'],\n",
       "      dtype='object')"
      ]
     },
     "execution_count": 13,
     "metadata": {},
     "output_type": "execute_result"
    }
   ],
   "source": [
    "df1.columns"
   ]
  },
  {
   "cell_type": "code",
   "execution_count": 14,
   "id": "c8e2e3d6",
   "metadata": {
    "id": "c8e2e3d6"
   },
   "outputs": [],
   "source": [
    "df1.drop(['seller','nrOfPictures','offerType','name','dateCrawled','dateCreated','lastSeen','postalCode'],axis=1,inplace=True)"
   ]
  },
  {
   "cell_type": "markdown",
   "id": "29f79535",
   "metadata": {
    "id": "29f79535"
   },
   "source": [
    "## Replacing Nan "
   ]
  },
  {
   "cell_type": "code",
   "execution_count": 15,
   "id": "6fd0c017",
   "metadata": {
    "colab": {
     "base_uri": "https://localhost:8080/"
    },
    "id": "6fd0c017",
    "outputId": "db391e95-8f3b-4c61-9527-ff62be40dddc"
   },
   "outputs": [
    {
     "data": {
      "text/plain": [
       "manuell      274214\n",
       "automatik     77105\n",
       "Name: gearbox, dtype: int64"
      ]
     },
     "execution_count": 15,
     "metadata": {},
     "output_type": "execute_result"
    }
   ],
   "source": [
    "df1['gearbox'].value_counts()"
   ]
  },
  {
   "cell_type": "code",
   "execution_count": 16,
   "id": "36911668",
   "metadata": {
    "id": "36911668"
   },
   "outputs": [],
   "source": [
    "df1['gearbox'].fillna('manuell',inplace=True)"
   ]
  },
  {
   "cell_type": "code",
   "execution_count": 17,
   "id": "2837ed71",
   "metadata": {
    "colab": {
     "base_uri": "https://localhost:8080/"
    },
    "id": "2837ed71",
    "outputId": "6795798f-6ae7-43ee-9524-e74ae52e6a98"
   },
   "outputs": [
    {
     "data": {
      "text/plain": [
       "False"
      ]
     },
     "execution_count": 17,
     "metadata": {},
     "output_type": "execute_result"
    }
   ],
   "source": [
    "df1[\"gearbox\"].isnull().any()"
   ]
  },
  {
   "cell_type": "code",
   "execution_count": 18,
   "id": "960bedf5",
   "metadata": {
    "colab": {
     "base_uri": "https://localhost:8080/"
    },
    "id": "960bedf5",
    "outputId": "6662a521-1995-44d6-ad06-5b8f850027d1"
   },
   "outputs": [
    {
     "data": {
      "text/plain": [
       "nein    263182\n",
       "ja       36286\n",
       "Name: notRepairedDamage, dtype: int64"
      ]
     },
     "execution_count": 18,
     "metadata": {},
     "output_type": "execute_result"
    }
   ],
   "source": [
    "df1['notRepairedDamage'].value_counts()"
   ]
  },
  {
   "cell_type": "code",
   "execution_count": 19,
   "id": "a25409c7",
   "metadata": {
    "id": "a25409c7"
   },
   "outputs": [],
   "source": [
    "df1['notRepairedDamage'].fillna('nein',inplace=True)"
   ]
  },
  {
   "cell_type": "code",
   "execution_count": 20,
   "id": "a0751ff5",
   "metadata": {
    "colab": {
     "base_uri": "https://localhost:8080/"
    },
    "id": "a0751ff5",
    "outputId": "03e14ed8-61a6-444a-8e6a-62c1a035b2fa"
   },
   "outputs": [
    {
     "data": {
      "text/plain": [
       "False"
      ]
     },
     "execution_count": 20,
     "metadata": {},
     "output_type": "execute_result"
    }
   ],
   "source": [
    "df1[\"notRepairedDamage\"].isnull().any()"
   ]
  },
  {
   "cell_type": "code",
   "execution_count": 21,
   "id": "4025646f",
   "metadata": {
    "colab": {
     "base_uri": "https://localhost:8080/"
    },
    "id": "4025646f",
    "outputId": "4479ffd3-76db-4e60-9830-1845198a561a"
   },
   "outputs": [
    {
     "data": {
      "text/plain": [
       "benzin     223857\n",
       "diesel     107746\n",
       "lpg          5378\n",
       "cng           571\n",
       "hybrid        278\n",
       "andere        208\n",
       "elektro       104\n",
       "Name: fuelType, dtype: int64"
      ]
     },
     "execution_count": 21,
     "metadata": {},
     "output_type": "execute_result"
    }
   ],
   "source": [
    "df1[\"fuelType\"].value_counts()"
   ]
  },
  {
   "cell_type": "code",
   "execution_count": 22,
   "id": "03bc1d6d",
   "metadata": {
    "id": "03bc1d6d"
   },
   "outputs": [],
   "source": [
    "df1['fuelType'].fillna('benzin',inplace=True)"
   ]
  },
  {
   "cell_type": "code",
   "execution_count": 23,
   "id": "72c9f895",
   "metadata": {
    "colab": {
     "base_uri": "https://localhost:8080/"
    },
    "id": "72c9f895",
    "outputId": "9f4d3602-78ee-41ad-c65f-5c92391a8d35"
   },
   "outputs": [
    {
     "data": {
      "text/plain": [
       "False"
      ]
     },
     "execution_count": 23,
     "metadata": {},
     "output_type": "execute_result"
    }
   ],
   "source": [
    "df1[\"fuelType\"].isnull().any()"
   ]
  },
  {
   "cell_type": "code",
   "execution_count": 24,
   "id": "d33cd045",
   "metadata": {
    "colab": {
     "base_uri": "https://localhost:8080/"
    },
    "id": "d33cd045",
    "outputId": "e32b3333-74d1-4083-a17e-4d1fb6f2611f"
   },
   "outputs": [
    {
     "data": {
      "text/plain": [
       "limousine     95894\n",
       "kleinwagen    80023\n",
       "kombi         67564\n",
       "bus           30201\n",
       "cabrio        22898\n",
       "coupe         19015\n",
       "suv           14707\n",
       "andere         3357\n",
       "Name: vehicleType, dtype: int64"
      ]
     },
     "execution_count": 24,
     "metadata": {},
     "output_type": "execute_result"
    }
   ],
   "source": [
    "df1[\"vehicleType\"].value_counts()"
   ]
  },
  {
   "cell_type": "code",
   "execution_count": 25,
   "id": "f4b15187",
   "metadata": {
    "id": "f4b15187"
   },
   "outputs": [],
   "source": [
    "df1['vehicleType'].fillna('limousine',inplace=True)"
   ]
  },
  {
   "cell_type": "code",
   "execution_count": 26,
   "id": "bf0c708b",
   "metadata": {
    "colab": {
     "base_uri": "https://localhost:8080/"
    },
    "id": "bf0c708b",
    "outputId": "e8196211-b22f-4f95-a6e7-261bf92e8220"
   },
   "outputs": [
    {
     "data": {
      "text/plain": [
       "False"
      ]
     },
     "execution_count": 26,
     "metadata": {},
     "output_type": "execute_result"
    }
   ],
   "source": [
    "df1[\"vehicleType\"].isnull().any()"
   ]
  },
  {
   "cell_type": "code",
   "execution_count": 27,
   "id": "12d80e89",
   "metadata": {
    "id": "12d80e89"
   },
   "outputs": [],
   "source": [
    "#df1[\"model\"].value_counts()"
   ]
  },
  {
   "cell_type": "code",
   "execution_count": 28,
   "id": "78b27b10",
   "metadata": {
    "id": "78b27b10"
   },
   "outputs": [],
   "source": [
    "df1['model'].fillna('golf',inplace=True)"
   ]
  },
  {
   "cell_type": "code",
   "execution_count": 29,
   "id": "c1388e4d",
   "metadata": {
    "colab": {
     "base_uri": "https://localhost:8080/"
    },
    "id": "c1388e4d",
    "outputId": "b17feb6e-1ea9-4a51-ec99-13b60f007cc1"
   },
   "outputs": [
    {
     "data": {
      "text/plain": [
       "False"
      ]
     },
     "execution_count": 29,
     "metadata": {},
     "output_type": "execute_result"
    }
   ],
   "source": [
    "df1[\"vehicleType\"].isnull().any()"
   ]
  },
  {
   "cell_type": "code",
   "execution_count": 30,
   "id": "a13224fa",
   "metadata": {
    "colab": {
     "base_uri": "https://localhost:8080/"
    },
    "id": "a13224fa",
    "outputId": "cbfc8b02-cad0-4b36-b731-0529eeab14c1"
   },
   "outputs": [
    {
     "data": {
      "text/plain": [
       "(371528, 12)"
      ]
     },
     "execution_count": 30,
     "metadata": {},
     "output_type": "execute_result"
    }
   ],
   "source": [
    "df1.shape"
   ]
  },
  {
   "cell_type": "code",
   "execution_count": 31,
   "id": "c27750c1",
   "metadata": {
    "colab": {
     "base_uri": "https://localhost:8080/"
    },
    "id": "c27750c1",
    "outputId": "7c4fc579-10f2-4293-8c52-9fdf7f6cfa81"
   },
   "outputs": [
    {
     "data": {
      "text/plain": [
       "price                  10778\n",
       "abtest                     0\n",
       "vehicleType                0\n",
       "yearOfRegistration         0\n",
       "gearbox                    0\n",
       "powerPS                40820\n",
       "model                      0\n",
       "kilometer                  0\n",
       "monthOfRegistration    37675\n",
       "fuelType                   0\n",
       "brand                      0\n",
       "notRepairedDamage          0\n",
       "dtype: int64"
      ]
     },
     "execution_count": 31,
     "metadata": {},
     "output_type": "execute_result"
    }
   ],
   "source": [
    "(df1==0).sum()"
   ]
  },
  {
   "cell_type": "code",
   "execution_count": 32,
   "id": "576d2ddf",
   "metadata": {
    "id": "576d2ddf"
   },
   "outputs": [],
   "source": [
    "#df1[\"powerPS\"].value_counts()"
   ]
  },
  {
   "cell_type": "code",
   "execution_count": 33,
   "id": "65831d56",
   "metadata": {
    "colab": {
     "base_uri": "https://localhost:8080/"
    },
    "id": "65831d56",
    "outputId": "d50a94b9-7672-4539-f101-ce640fdc2db4"
   },
   "outputs": [
    {
     "data": {
      "text/plain": [
       "0     37675\n",
       "3     36170\n",
       "6     33167\n",
       "4     30918\n",
       "5     30631\n",
       "7     28958\n",
       "10    27337\n",
       "11    25489\n",
       "12    25380\n",
       "9     25074\n",
       "1     24561\n",
       "8     23765\n",
       "2     22403\n",
       "Name: monthOfRegistration, dtype: int64"
      ]
     },
     "execution_count": 33,
     "metadata": {},
     "output_type": "execute_result"
    }
   ],
   "source": [
    "df1[\"monthOfRegistration\"].value_counts()"
   ]
  },
  {
   "cell_type": "code",
   "execution_count": 34,
   "id": "6331fe76",
   "metadata": {
    "id": "6331fe76"
   },
   "outputs": [],
   "source": [
    "#df1[\"price\"].value_counts()"
   ]
  },
  {
   "cell_type": "code",
   "execution_count": 35,
   "id": "d06bb01f",
   "metadata": {
    "colab": {
     "base_uri": "https://localhost:8080/"
    },
    "id": "d06bb01f",
    "outputId": "b1d617bd-acd6-420d-b51a-0a5434301ccf"
   },
   "outputs": [
    {
     "data": {
      "text/plain": [
       "count    3.715280e+05\n",
       "mean     1.729514e+04\n",
       "std      3.587954e+06\n",
       "min      0.000000e+00\n",
       "25%      1.150000e+03\n",
       "50%      2.950000e+03\n",
       "75%      7.200000e+03\n",
       "max      2.147484e+09\n",
       "Name: price, dtype: float64"
      ]
     },
     "execution_count": 35,
     "metadata": {},
     "output_type": "execute_result"
    }
   ],
   "source": [
    "df1[\"price\"].describe()"
   ]
  },
  {
   "cell_type": "code",
   "execution_count": 36,
   "id": "8ce5a5ce",
   "metadata": {
    "colab": {
     "base_uri": "https://localhost:8080/"
    },
    "id": "8ce5a5ce",
    "outputId": "4234bec6-9dd2-4137-e577-5414f42e3ee6"
   },
   "outputs": [
    {
     "data": {
      "text/plain": [
       "count    371528.000000\n",
       "mean          5.734445\n",
       "std           3.712412\n",
       "min           0.000000\n",
       "25%           3.000000\n",
       "50%           6.000000\n",
       "75%           9.000000\n",
       "max          12.000000\n",
       "Name: monthOfRegistration, dtype: float64"
      ]
     },
     "execution_count": 36,
     "metadata": {},
     "output_type": "execute_result"
    }
   ],
   "source": [
    "df1[\"monthOfRegistration\"].describe()"
   ]
  },
  {
   "cell_type": "code",
   "execution_count": 37,
   "id": "3b093562",
   "metadata": {
    "colab": {
     "base_uri": "https://localhost:8080/"
    },
    "id": "3b093562",
    "outputId": "d197acb8-e9c3-4aae-fb2a-f8172004ed4a"
   },
   "outputs": [
    {
     "data": {
      "text/plain": [
       "count    371528.000000\n",
       "mean        115.549477\n",
       "std         192.139578\n",
       "min           0.000000\n",
       "25%          70.000000\n",
       "50%         105.000000\n",
       "75%         150.000000\n",
       "max       20000.000000\n",
       "Name: powerPS, dtype: float64"
      ]
     },
     "execution_count": 37,
     "metadata": {},
     "output_type": "execute_result"
    }
   ],
   "source": [
    "df1[\"powerPS\"].describe()"
   ]
  },
  {
   "cell_type": "markdown",
   "id": "c8a21a3b",
   "metadata": {
    "id": "c8a21a3b"
   },
   "source": [
    "Replace zero values with the minimum so we are replacing it with the 25%.\n",
    "{price =25% =1500,monthOfRegistration=3.000000,powerPS=70.000000}"
   ]
  },
  {
   "cell_type": "code",
   "execution_count": 38,
   "id": "1e4b2e24",
   "metadata": {
    "id": "1e4b2e24"
   },
   "outputs": [],
   "source": [
    "df1[['price']] = df1[['price']].replace([0], [1500])\n",
    "df1[['monthOfRegistration']] = df1[['monthOfRegistration']].replace([0], [3.000000])\n",
    "df1[['powerPS']] = df1[['powerPS']].replace([0], [70.000000])"
   ]
  },
  {
   "cell_type": "code",
   "execution_count": 39,
   "id": "db42e297",
   "metadata": {
    "colab": {
     "base_uri": "https://localhost:8080/"
    },
    "id": "db42e297",
    "outputId": "b6bbff94-cb4c-4202-cc12-303315635c17"
   },
   "outputs": [
    {
     "data": {
      "text/plain": [
       "price                  0\n",
       "abtest                 0\n",
       "vehicleType            0\n",
       "yearOfRegistration     0\n",
       "gearbox                0\n",
       "powerPS                0\n",
       "model                  0\n",
       "kilometer              0\n",
       "monthOfRegistration    0\n",
       "fuelType               0\n",
       "brand                  0\n",
       "notRepairedDamage      0\n",
       "dtype: int64"
      ]
     },
     "execution_count": 39,
     "metadata": {},
     "output_type": "execute_result"
    }
   ],
   "source": [
    "(df1==0).sum()"
   ]
  },
  {
   "cell_type": "markdown",
   "id": "e414a088",
   "metadata": {
    "id": "e414a088"
   },
   "source": [
    "## EDA"
   ]
  },
  {
   "cell_type": "code",
   "execution_count": 40,
   "id": "d7d8e38f",
   "metadata": {
    "colab": {
     "base_uri": "https://localhost:8080/",
     "height": 0
    },
    "id": "d7d8e38f",
    "outputId": "2809d189-0b91-4828-f50b-d0bbf61482e4"
   },
   "outputs": [
    {
     "data": {
      "text/plain": [
       "array([[<AxesSubplot:title={'center':'price'}>,\n",
       "        <AxesSubplot:title={'center':'yearOfRegistration'}>],\n",
       "       [<AxesSubplot:title={'center':'powerPS'}>,\n",
       "        <AxesSubplot:title={'center':'kilometer'}>],\n",
       "       [<AxesSubplot:title={'center':'monthOfRegistration'}>,\n",
       "        <AxesSubplot:>]], dtype=object)"
      ]
     },
     "execution_count": 40,
     "metadata": {},
     "output_type": "execute_result"
    },
    {
     "data": {
      "image/png": "[encoded data removed]",
      "text/plain": [
       "<Figure size 1440x720 with 6 Axes>"
      ]
     },
     "metadata": {
      "needs_background": "light"
     },
     "output_type": "display_data"
    }
   ],
   "source": [
    "df1.hist(bins=40,figsize=(20,10))"
   ]
  },
  {
   "cell_type": "code",
   "execution_count": 41,
   "id": "04987d4f",
   "metadata": {
    "colab": {
     "base_uri": "https://localhost:8080/",
     "height": 0
    },
    "id": "04987d4f",
    "outputId": "a62e86be-3512-44b3-9989-30def118c92e"
   },
   "outputs": [
    {
     "data": {
      "text/plain": [
       "<AxesSubplot:>"
      ]
     },
     "execution_count": 41,
     "metadata": {},
     "output_type": "execute_result"
    },
    {
     "data": {
      "image/png": "[encoded data removed]",
      "text/plain": [
       "<Figure size 432x288 with 2 Axes>"
      ]
     },
     "metadata": {
      "needs_background": "light"
     },
     "output_type": "display_data"
    }
   ],
   "source": [
    "sns.heatmap(df1.corr(),annot=True)"
   ]
  },
  {
   "cell_type": "code",
   "execution_count": 42,
   "id": "64f3fa3a",
   "metadata": {
    "id": "64f3fa3a"
   },
   "outputs": [],
   "source": [
    "#df1['price'].unique"
   ]
  },
  {
   "cell_type": "code",
   "execution_count": 43,
   "id": "51dfd9b7",
   "metadata": {
    "colab": {
     "base_uri": "https://localhost:8080/"
    },
    "id": "51dfd9b7",
    "outputId": "9647c76f-fbdc-4148-d795-a7469d62f424"
   },
   "outputs": [
    {
     "data": {
      "text/plain": [
       "Index(['price', 'abtest', 'vehicleType', 'yearOfRegistration', 'gearbox',\n",
       "       'powerPS', 'model', 'kilometer', 'monthOfRegistration', 'fuelType',\n",
       "       'brand', 'notRepairedDamage'],\n",
       "      dtype='object')"
      ]
     },
     "execution_count": 43,
     "metadata": {},
     "output_type": "execute_result"
    }
   ],
   "source": [
    "df1.columns"
   ]
  },
  {
   "cell_type": "code",
   "execution_count": 44,
   "id": "db2460ce",
   "metadata": {
    "colab": {
     "base_uri": "https://localhost:8080/",
     "height": 0
    },
    "id": "db2460ce",
    "outputId": "6ff4c213-e92e-4778-b99e-1bb5d995912d"
   },
   "outputs": [
    {
     "data": {
      "text/plain": [
       "<AxesSubplot:title={'center':'Distribution by type of car'}>"
      ]
     },
     "execution_count": 44,
     "metadata": {},
     "output_type": "execute_result"
    },
    {
     "data": {
      "image/png": "[encoded data removed]",
      "text/plain": [
       "<Figure size 1080x504 with 1 Axes>"
      ]
     },
     "metadata": {
      "needs_background": "light"
     },
     "output_type": "display_data"
    }
   ],
   "source": [
    "import matplotlib.pyplot as plt\n",
    "plt.figure(figsize=(15,7))\n",
    "plt.title('Distribution by type of car',fontsize=16)\n",
    "df1['vehicleType'].value_counts().plot(kind='bar')"
   ]
  },
  {
   "cell_type": "code",
   "execution_count": 45,
   "id": "2b265062",
   "metadata": {
    "id": "2b265062"
   },
   "outputs": [],
   "source": [
    "#df1.groupby(\"fuelType\")[\"vehicleType\"].value_counts()"
   ]
  },
  {
   "cell_type": "code",
   "execution_count": 46,
   "id": "d27f5582",
   "metadata": {
    "colab": {
     "base_uri": "https://localhost:8080/",
     "height": 0
    },
    "id": "d27f5582",
    "outputId": "08718d85-b5f0-4c0d-903d-16d0648b015f",
    "scrolled": false
   },
   "outputs": [
    {
     "data": {
      "text/html": [
       "<div>\n",
       "<style scoped>\n",
       "    .dataframe tbody tr th:only-of-type {\n",
       "        vertical-align: middle;\n",
       "    }\n",
       "\n",
       "    .dataframe tbody tr th {\n",
       "        vertical-align: top;\n",
       "    }\n",
       "\n",
       "    .dataframe thead th {\n",
       "        text-align: right;\n",
       "    }\n",
       "</style>\n",
       "<table border=\"1\" class=\"dataframe\">\n",
       "  <thead>\n",
       "    <tr style=\"text-align: right;\">\n",
       "      <th></th>\n",
       "      <th>price</th>\n",
       "      <th>abtest</th>\n",
       "      <th>vehicleType</th>\n",
       "      <th>yearOfRegistration</th>\n",
       "      <th>gearbox</th>\n",
       "      <th>powerPS</th>\n",
       "      <th>model</th>\n",
       "      <th>kilometer</th>\n",
       "      <th>monthOfRegistration</th>\n",
       "      <th>fuelType</th>\n",
       "      <th>brand</th>\n",
       "      <th>notRepairedDamage</th>\n",
       "    </tr>\n",
       "  </thead>\n",
       "  <tbody>\n",
       "    <tr>\n",
       "      <th>0</th>\n",
       "      <td>480</td>\n",
       "      <td>test</td>\n",
       "      <td>limousine</td>\n",
       "      <td>1993</td>\n",
       "      <td>manuell</td>\n",
       "      <td>70.0</td>\n",
       "      <td>golf</td>\n",
       "      <td>150000</td>\n",
       "      <td>3.0</td>\n",
       "      <td>benzin</td>\n",
       "      <td>volkswagen</td>\n",
       "      <td>nein</td>\n",
       "    </tr>\n",
       "    <tr>\n",
       "      <th>1</th>\n",
       "      <td>18300</td>\n",
       "      <td>test</td>\n",
       "      <td>coupe</td>\n",
       "      <td>2011</td>\n",
       "      <td>manuell</td>\n",
       "      <td>190.0</td>\n",
       "      <td>golf</td>\n",
       "      <td>125000</td>\n",
       "      <td>5.0</td>\n",
       "      <td>diesel</td>\n",
       "      <td>audi</td>\n",
       "      <td>ja</td>\n",
       "    </tr>\n",
       "    <tr>\n",
       "      <th>2</th>\n",
       "      <td>9800</td>\n",
       "      <td>test</td>\n",
       "      <td>suv</td>\n",
       "      <td>2004</td>\n",
       "      <td>automatik</td>\n",
       "      <td>163.0</td>\n",
       "      <td>grand</td>\n",
       "      <td>125000</td>\n",
       "      <td>8.0</td>\n",
       "      <td>diesel</td>\n",
       "      <td>jeep</td>\n",
       "      <td>nein</td>\n",
       "    </tr>\n",
       "    <tr>\n",
       "      <th>3</th>\n",
       "      <td>1500</td>\n",
       "      <td>test</td>\n",
       "      <td>kleinwagen</td>\n",
       "      <td>2001</td>\n",
       "      <td>manuell</td>\n",
       "      <td>75.0</td>\n",
       "      <td>golf</td>\n",
       "      <td>150000</td>\n",
       "      <td>6.0</td>\n",
       "      <td>benzin</td>\n",
       "      <td>volkswagen</td>\n",
       "      <td>nein</td>\n",
       "    </tr>\n",
       "    <tr>\n",
       "      <th>4</th>\n",
       "      <td>3600</td>\n",
       "      <td>test</td>\n",
       "      <td>kleinwagen</td>\n",
       "      <td>2008</td>\n",
       "      <td>manuell</td>\n",
       "      <td>69.0</td>\n",
       "      <td>fabia</td>\n",
       "      <td>90000</td>\n",
       "      <td>7.0</td>\n",
       "      <td>diesel</td>\n",
       "      <td>skoda</td>\n",
       "      <td>nein</td>\n",
       "    </tr>\n",
       "  </tbody>\n",
       "</table>\n",
       "</div>"
      ],
      "text/plain": [
       "   price abtest vehicleType  yearOfRegistration    gearbox  powerPS  model  \\\n",
       "0    480   test   limousine                1993    manuell     70.0   golf   \n",
       "1  18300   test       coupe                2011    manuell    190.0   golf   \n",
       "2   9800   test         suv                2004  automatik    163.0  grand   \n",
       "3   1500   test  kleinwagen                2001    manuell     75.0   golf   \n",
       "4   3600   test  kleinwagen                2008    manuell     69.0  fabia   \n",
       "\n",
       "   kilometer  monthOfRegistration fuelType       brand notRepairedDamage  \n",
       "0     150000                  3.0   benzin  volkswagen              nein  \n",
       "1     125000                  5.0   diesel        audi                ja  \n",
       "2     125000                  8.0   diesel        jeep              nein  \n",
       "3     150000                  6.0   benzin  volkswagen              nein  \n",
       "4      90000                  7.0   diesel       skoda              nein  "
      ]
     },
     "execution_count": 46,
     "metadata": {},
     "output_type": "execute_result"
    }
   ],
   "source": [
    "df1.head()"
   ]
  },
  {
   "cell_type": "code",
   "execution_count": 47,
   "id": "e51286cb",
   "metadata": {
    "colab": {
     "base_uri": "https://localhost:8080/"
    },
    "id": "e51286cb",
    "outputId": "a8cee850-ff93-4140-9cf0-3b768d7612ab"
   },
   "outputs": [
    {
     "data": {
      "text/plain": [
       "(371528, 12)"
      ]
     },
     "execution_count": 47,
     "metadata": {},
     "output_type": "execute_result"
    }
   ],
   "source": [
    "df1.shape"
   ]
  },
  {
   "cell_type": "markdown",
   "id": "90d697dd",
   "metadata": {
    "id": "90d697dd"
   },
   "source": [
    "# label Encoder"
   ]
  },
  {
   "cell_type": "code",
   "execution_count": 48,
   "id": "f0d1e1d4",
   "metadata": {
    "id": "f0d1e1d4"
   },
   "outputs": [],
   "source": [
    "from sklearn.preprocessing import LabelEncoder"
   ]
  },
  {
   "cell_type": "code",
   "execution_count": 49,
   "id": "12c76e33",
   "metadata": {
    "id": "12c76e33"
   },
   "outputs": [],
   "source": [
    "df1[\"vehicleType\"] =LabelEncoder().fit_transform(df1[\"vehicleType\"])\n",
    "df1[\"fuelType\"] =LabelEncoder().fit_transform(df1[\"fuelType\"])\n",
    "df1[\"gearbox\"] =LabelEncoder().fit_transform(df1[\"gearbox\"])\n",
    "df1[\"notRepairedDamage\"] =LabelEncoder().fit_transform(df1[\"notRepairedDamage\"])\n",
    "df1[\"brand\"] =LabelEncoder().fit_transform(df1[\"brand\"])\n",
    "df1[\"model\"] =LabelEncoder().fit_transform(df1[\"model\"])\n",
    "df1[\"abtest\"] =LabelEncoder().fit_transform(df1[\"abtest\"])"
   ]
  },
  {
   "cell_type": "markdown",
   "id": "bf4da1ba",
   "metadata": {
    "id": "bf4da1ba"
   },
   "source": [
    "# Handeling Outliers"
   ]
  },
  {
   "cell_type": "code",
   "execution_count": 50,
   "id": "40772d24",
   "metadata": {
    "colab": {
     "base_uri": "https://localhost:8080/"
    },
    "id": "40772d24",
    "outputId": "e69da55c-0cbe-4607-cc89-31e6d46f05a5"
   },
   "outputs": [
    {
     "data": {
      "text/plain": [
       "count    371528.000000\n",
       "mean       2004.577997\n",
       "std          92.866598\n",
       "min        1000.000000\n",
       "25%        1999.000000\n",
       "50%        2003.000000\n",
       "75%        2008.000000\n",
       "max        9999.000000\n",
       "Name: yearOfRegistration, dtype: float64"
      ]
     },
     "execution_count": 50,
     "metadata": {},
     "output_type": "execute_result"
    }
   ],
   "source": [
    "df1[\"yearOfRegistration\"].describe()"
   ]
  },
  {
   "cell_type": "code",
   "execution_count": 51,
   "id": "09d9db52",
   "metadata": {
    "colab": {
     "base_uri": "https://localhost:8080/"
    },
    "id": "09d9db52",
    "outputId": "888b7dce-76d0-40e6-b24e-679ae6e6cc2c"
   },
   "outputs": [
    {
     "data": {
      "text/plain": [
       "(114, 12)"
      ]
     },
     "execution_count": 51,
     "metadata": {},
     "output_type": "execute_result"
    }
   ],
   "source": [
    "df1[df1.yearOfRegistration > 2022].shape"
   ]
  },
  {
   "cell_type": "code",
   "execution_count": 52,
   "id": "61b206bf",
   "metadata": {
    "colab": {
     "base_uri": "https://localhost:8080/"
    },
    "id": "61b206bf",
    "outputId": "0eb9a192-05e3-4a1f-95c5-35cbcfc2b6a0"
   },
   "outputs": [
    {
     "data": {
      "text/plain": [
       "(289, 12)"
      ]
     },
     "execution_count": 52,
     "metadata": {},
     "output_type": "execute_result"
    }
   ],
   "source": [
    "df1[df1.yearOfRegistration < 1950].shape"
   ]
  },
  {
   "cell_type": "code",
   "execution_count": 53,
   "id": "78ab47cb",
   "metadata": {
    "id": "78ab47cb"
   },
   "outputs": [],
   "source": [
    "#So only 289 registration are there before 1950 and 114 registration after 2022 , so these are outliers and should be removed for better results\n",
    "df1 = df1[(df1.yearOfRegistration < 2022)  & (df1.yearOfRegistration > 1950)]"
   ]
  },
  {
   "cell_type": "code",
   "execution_count": 54,
   "id": "T2lZLz7lC-FH",
   "metadata": {
    "colab": {
     "base_uri": "https://localhost:8080/"
    },
    "id": "T2lZLz7lC-FH",
    "outputId": "decfdaf1-fc42-4d7f-c930-8c55897573c6"
   },
   "outputs": [
    {
     "data": {
      "text/plain": [
       "count    371103.000000\n",
       "mean       2003.398975\n",
       "std           7.514654\n",
       "min        1951.000000\n",
       "25%        1999.000000\n",
       "50%        2003.000000\n",
       "75%        2008.000000\n",
       "max        2019.000000\n",
       "Name: yearOfRegistration, dtype: float64"
      ]
     },
     "execution_count": 54,
     "metadata": {},
     "output_type": "execute_result"
    }
   ],
   "source": [
    "df1[\"yearOfRegistration\"].describe()"
   ]
  },
  {
   "cell_type": "code",
   "execution_count": 55,
   "id": "4d08b838",
   "metadata": {
    "colab": {
     "base_uri": "https://localhost:8080/"
    },
    "id": "4d08b838",
    "outputId": "161c6adc-aed9-4106-bc21-49b15a1e57da"
   },
   "outputs": [
    {
     "data": {
      "text/plain": [
       "count    3.711030e+05\n",
       "mean     1.731513e+04\n",
       "std      3.589969e+06\n",
       "min      1.000000e+00\n",
       "25%      1.299000e+03\n",
       "50%      2.950000e+03\n",
       "75%      7.200000e+03\n",
       "max      2.147484e+09\n",
       "Name: price, dtype: float64"
      ]
     },
     "execution_count": 55,
     "metadata": {},
     "output_type": "execute_result"
    }
   ],
   "source": [
    "## lets look at the price\n",
    "df1[\"price\"].describe()"
   ]
  },
  {
   "cell_type": "code",
   "execution_count": 56,
   "id": "a6028d3c",
   "metadata": {
    "colab": {
     "base_uri": "https://localhost:8080/"
    },
    "id": "a6028d3c",
    "outputId": "02d2e6eb-7c73-47c8-9dfc-30719014811e"
   },
   "outputs": [
    {
     "data": {
      "text/plain": [
       "(165, 12)"
      ]
     },
     "execution_count": 56,
     "metadata": {},
     "output_type": "execute_result"
    }
   ],
   "source": [
    "df1[df1.price > 200000].shape"
   ]
  },
  {
   "cell_type": "code",
   "execution_count": 57,
   "id": "1cb11710",
   "metadata": {
    "colab": {
     "base_uri": "https://localhost:8080/"
    },
    "id": "1cb11710",
    "outputId": "588f7cc0-332a-46a5-b852-ae0e8ec51c03"
   },
   "outputs": [
    {
     "data": {
      "text/plain": [
       "(2491, 12)"
      ]
     },
     "execution_count": 57,
     "metadata": {},
     "output_type": "execute_result"
    }
   ],
   "source": [
    "#price starts from 1 and goes upto max 2.147484e+09 , but the price 1 is unrealistic\n",
    "df1[df1.price < 100].shape"
   ]
  },
  {
   "cell_type": "code",
   "execution_count": 58,
   "id": "2169c766",
   "metadata": {
    "id": "2169c766"
   },
   "outputs": [],
   "source": [
    "#only 165 values are there above 2 lakh and 2491 enries below 100, lets remove them\n",
    "df1 = df1[(df1.price > 100) & (df1.price < 200000) ]"
   ]
  },
  {
   "cell_type": "code",
   "execution_count": 59,
   "id": "waHLSlzSDSR8",
   "metadata": {
    "colab": {
     "base_uri": "https://localhost:8080/"
    },
    "id": "waHLSlzSDSR8",
    "outputId": "2d9e0527-e44e-4eaf-bc35-9baec4c3d1f6"
   },
   "outputs": [
    {
     "data": {
      "text/plain": [
       "count    367417.000000\n",
       "mean       5783.437122\n",
       "std        8177.089538\n",
       "min         101.000000\n",
       "25%        1300.000000\n",
       "50%        2999.000000\n",
       "75%        7250.000000\n",
       "max      199900.000000\n",
       "Name: price, dtype: float64"
      ]
     },
     "execution_count": 59,
     "metadata": {},
     "output_type": "execute_result"
    }
   ],
   "source": [
    "df1[\"price\"].describe()"
   ]
  },
  {
   "cell_type": "code",
   "execution_count": 60,
   "id": "ada2488e",
   "metadata": {
    "colab": {
     "base_uri": "https://localhost:8080/",
     "height": 0
    },
    "id": "ada2488e",
    "outputId": "4f74ea1e-0e9f-4f01-cd23-b8582675b6f7"
   },
   "outputs": [
    {
     "data": {
      "text/html": [
       "<div>\n",
       "<style scoped>\n",
       "    .dataframe tbody tr th:only-of-type {\n",
       "        vertical-align: middle;\n",
       "    }\n",
       "\n",
       "    .dataframe tbody tr th {\n",
       "        vertical-align: top;\n",
       "    }\n",
       "\n",
       "    .dataframe thead th {\n",
       "        text-align: right;\n",
       "    }\n",
       "</style>\n",
       "<table border=\"1\" class=\"dataframe\">\n",
       "  <thead>\n",
       "    <tr style=\"text-align: right;\">\n",
       "      <th></th>\n",
       "      <th>price</th>\n",
       "      <th>abtest</th>\n",
       "      <th>vehicleType</th>\n",
       "      <th>yearOfRegistration</th>\n",
       "      <th>gearbox</th>\n",
       "      <th>powerPS</th>\n",
       "      <th>model</th>\n",
       "      <th>kilometer</th>\n",
       "      <th>monthOfRegistration</th>\n",
       "      <th>fuelType</th>\n",
       "      <th>brand</th>\n",
       "      <th>notRepairedDamage</th>\n",
       "    </tr>\n",
       "  </thead>\n",
       "  <tbody>\n",
       "    <tr>\n",
       "      <th>0</th>\n",
       "      <td>480</td>\n",
       "      <td>1</td>\n",
       "      <td>6</td>\n",
       "      <td>1993</td>\n",
       "      <td>1</td>\n",
       "      <td>70.0</td>\n",
       "      <td>118</td>\n",
       "      <td>150000</td>\n",
       "      <td>3.0</td>\n",
       "      <td>1</td>\n",
       "      <td>38</td>\n",
       "      <td>1</td>\n",
       "    </tr>\n",
       "    <tr>\n",
       "      <th>1</th>\n",
       "      <td>18300</td>\n",
       "      <td>1</td>\n",
       "      <td>3</td>\n",
       "      <td>2011</td>\n",
       "      <td>1</td>\n",
       "      <td>190.0</td>\n",
       "      <td>118</td>\n",
       "      <td>125000</td>\n",
       "      <td>5.0</td>\n",
       "      <td>3</td>\n",
       "      <td>1</td>\n",
       "      <td>0</td>\n",
       "    </tr>\n",
       "    <tr>\n",
       "      <th>2</th>\n",
       "      <td>9800</td>\n",
       "      <td>1</td>\n",
       "      <td>7</td>\n",
       "      <td>2004</td>\n",
       "      <td>0</td>\n",
       "      <td>163.0</td>\n",
       "      <td>119</td>\n",
       "      <td>125000</td>\n",
       "      <td>8.0</td>\n",
       "      <td>3</td>\n",
       "      <td>14</td>\n",
       "      <td>1</td>\n",
       "    </tr>\n",
       "    <tr>\n",
       "      <th>3</th>\n",
       "      <td>1500</td>\n",
       "      <td>1</td>\n",
       "      <td>4</td>\n",
       "      <td>2001</td>\n",
       "      <td>1</td>\n",
       "      <td>75.0</td>\n",
       "      <td>118</td>\n",
       "      <td>150000</td>\n",
       "      <td>6.0</td>\n",
       "      <td>1</td>\n",
       "      <td>38</td>\n",
       "      <td>1</td>\n",
       "    </tr>\n",
       "    <tr>\n",
       "      <th>4</th>\n",
       "      <td>3600</td>\n",
       "      <td>1</td>\n",
       "      <td>4</td>\n",
       "      <td>2008</td>\n",
       "      <td>1</td>\n",
       "      <td>69.0</td>\n",
       "      <td>103</td>\n",
       "      <td>90000</td>\n",
       "      <td>7.0</td>\n",
       "      <td>3</td>\n",
       "      <td>31</td>\n",
       "      <td>1</td>\n",
       "    </tr>\n",
       "  </tbody>\n",
       "</table>\n",
       "</div>"
      ],
      "text/plain": [
       "   price  abtest  vehicleType  yearOfRegistration  gearbox  powerPS  model  \\\n",
       "0    480       1            6                1993        1     70.0    118   \n",
       "1  18300       1            3                2011        1    190.0    118   \n",
       "2   9800       1            7                2004        0    163.0    119   \n",
       "3   1500       1            4                2001        1     75.0    118   \n",
       "4   3600       1            4                2008        1     69.0    103   \n",
       "\n",
       "   kilometer  monthOfRegistration  fuelType  brand  notRepairedDamage  \n",
       "0     150000                  3.0         1     38                  1  \n",
       "1     125000                  5.0         3      1                  0  \n",
       "2     125000                  8.0         3     14                  1  \n",
       "3     150000                  6.0         1     38                  1  \n",
       "4      90000                  7.0         3     31                  1  "
      ]
     },
     "execution_count": 60,
     "metadata": {},
     "output_type": "execute_result"
    }
   ],
   "source": [
    "df1.head()"
   ]
  },
  {
   "cell_type": "code",
   "execution_count": 61,
   "id": "43522987",
   "metadata": {
    "colab": {
     "base_uri": "https://localhost:8080/",
     "height": 0
    },
    "id": "43522987",
    "outputId": "240d531a-1897-436d-ced6-5eedfcda4bcc"
   },
   "outputs": [
    {
     "data": {
      "text/plain": [
       "Text(0, 0.5, 'price')"
      ]
     },
     "execution_count": 61,
     "metadata": {},
     "output_type": "execute_result"
    },
    {
     "data": {
      "image/png": "[encoded data removed]",
      "text/plain": [
       "<Figure size 432x288 with 1 Axes>"
      ]
     },
     "metadata": {
      "needs_background": "light"
     },
     "output_type": "display_data"
    }
   ],
   "source": [
    "plt.scatter(df1['yearOfRegistration'],df1['price'])\n",
    "plt.title(\"price v/s yearOfRegistration\")\n",
    "plt.xlabel(\"yearOfRegistration\")\n",
    "plt.ylabel(\"price\")"
   ]
  },
  {
   "cell_type": "code",
   "execution_count": 62,
   "id": "ba4abc6f",
   "metadata": {
    "colab": {
     "base_uri": "https://localhost:8080/",
     "height": 0
    },
    "id": "ba4abc6f",
    "outputId": "b3b7e4ce-d758-4365-c902-7a0a5ee1b547"
   },
   "outputs": [
    {
     "data": {
      "text/plain": [
       "Text(0, 0.5, 'price')"
      ]
     },
     "execution_count": 62,
     "metadata": {},
     "output_type": "execute_result"
    },
    {
     "data": {
      "image/png": "[encoded data removed]",
      "text/plain": [
       "<Figure size 432x288 with 1 Axes>"
      ]
     },
     "metadata": {
      "needs_background": "light"
     },
     "output_type": "display_data"
    }
   ],
   "source": [
    "plt.scatter(df1['powerPS'],df1['price'],color='b')\n",
    "plt.title(\"price v/s powerPS\")\n",
    "plt.xlabel(\"powerPS\")\n",
    "plt.ylabel(\"price\")"
   ]
  },
  {
   "cell_type": "code",
   "execution_count": 63,
   "id": "8812d9a5",
   "metadata": {
    "colab": {
     "base_uri": "https://localhost:8080/",
     "height": 0
    },
    "id": "8812d9a5",
    "outputId": "72d422f1-54d5-4b22-9cb1-82b3618a933f",
    "scrolled": true
   },
   "outputs": [
    {
     "data": {
      "text/plain": [
       "Text(0, 0.5, 'price')"
      ]
     },
     "execution_count": 63,
     "metadata": {},
     "output_type": "execute_result"
    },
    {
     "data": {
      "image/png": "[encoded data removed]",
      "text/plain": [
       "<Figure size 432x288 with 1 Axes>"
      ]
     },
     "metadata": {
      "needs_background": "light"
     },
     "output_type": "display_data"
    }
   ],
   "source": [
    "plt.scatter(df1['kilometer'],df1['price'])\n",
    "plt.title(\"price v/s kilometer\")\n",
    "plt.xlabel(\"kilometer\")\n",
    "plt.ylabel(\"price\")"
   ]
  },
  {
   "cell_type": "markdown",
   "id": "ccbcd590",
   "metadata": {
    "id": "ccbcd590"
   },
   "source": [
    "# split, train and test data"
   ]
  },
  {
   "cell_type": "code",
   "execution_count": 77,
   "id": "d48bf1fe",
   "metadata": {
    "id": "d48bf1fe"
   },
   "outputs": [],
   "source": [
    "X = df1.drop('price',axis=1)\n",
    "Y = df1['price']"
   ]
  },
  {
   "cell_type": "code",
   "execution_count": 78,
   "id": "7b2c97c1",
   "metadata": {
    "id": "7b2c97c1"
   },
   "outputs": [],
   "source": [
    "from sklearn.model_selection import train_test_split\n",
    "# Split Training and Testing Data\n",
    "X_train,X_test,Y_train,Y_test = train_test_split(X,Y,test_size = 0.3, random_state=0)"
   ]
  },
  {
   "cell_type": "code",
   "execution_count": 79,
   "id": "e3ee3600",
   "metadata": {
    "colab": {
     "base_uri": "https://localhost:8080/"
    },
    "id": "e3ee3600",
    "outputId": "158a9ada-b3ef-4878-8152-b94f987aac65"
   },
   "outputs": [
    {
     "data": {
      "text/plain": [
       "((257191, 11), (110226, 11), (257191,), (110226,))"
      ]
     },
     "execution_count": 79,
     "metadata": {},
     "output_type": "execute_result"
    }
   ],
   "source": [
    "X_train.shape, X_test.shape, Y_train.shape, Y_test.shape"
   ]
  },
  {
   "cell_type": "code",
   "execution_count": 80,
   "id": "e44004c6",
   "metadata": {
    "id": "e44004c6"
   },
   "outputs": [],
   "source": [
    "#print(Y_train.value_counts(normalize=True))\n",
    "#print(Y_test.value_counts(normalize=True))"
   ]
  },
  {
   "cell_type": "markdown",
   "id": "5f4f9b74",
   "metadata": {
    "id": "5f4f9b74"
   },
   "source": [
    "# Standard scalar"
   ]
  },
  {
   "cell_type": "code",
   "execution_count": 81,
   "id": "c6de2311",
   "metadata": {
    "id": "c6de2311"
   },
   "outputs": [],
   "source": [
    "from sklearn.preprocessing import StandardScaler\n",
    "\n",
    "sc = StandardScaler()\n",
    "\n",
    "X_train = sc.fit_transform(X_train)\n",
    "\n",
    "X_test = sc.fit_transform (X_test)"
   ]
  },
  {
   "cell_type": "code",
   "execution_count": 82,
   "id": "017acc9a",
   "metadata": {
    "id": "017acc9a"
   },
   "outputs": [],
   "source": [
    "#print(X_train,X_test)"
   ]
  },
  {
   "cell_type": "code",
   "execution_count": null,
   "id": "51c27173",
   "metadata": {},
   "outputs": [],
   "source": []
  },
  {
   "cell_type": "code",
   "execution_count": 83,
   "id": "c47e932b",
   "metadata": {},
   "outputs": [
    {
     "data": {
      "text/plain": [
       "['scalar8.save']"
      ]
     },
     "execution_count": 83,
     "metadata": {},
     "output_type": "execute_result"
    }
   ],
   "source": [
    "from joblib import dump\n",
    "dump(sc,\"scalar8.save\")"
   ]
  },
  {
   "cell_type": "markdown",
   "id": "297c37e6",
   "metadata": {
    "id": "297c37e6"
   },
   "source": [
    "# Applying Random forest regression"
   ]
  },
  {
   "cell_type": "code",
   "execution_count": 84,
   "id": "8927788e",
   "metadata": {
    "id": "8927788e"
   },
   "outputs": [],
   "source": [
    "from sklearn.linear_model import LinearRegression \n",
    "from sklearn.tree import DecisionTreeRegressor\n",
    "from sklearn.ensemble import RandomForestRegressor"
   ]
  },
  {
   "cell_type": "code",
   "execution_count": 85,
   "id": "46556688",
   "metadata": {
    "id": "46556688"
   },
   "outputs": [],
   "source": [
    "rfr = RandomForestRegressor()\n",
    "rfr.fit(X_train, Y_train)\n",
    "Y_pred_rfr=rfr.predict(X_test)"
   ]
  },
  {
   "cell_type": "code",
   "execution_count": 86,
   "id": "505a1bd2",
   "metadata": {
    "colab": {
     "base_uri": "https://localhost:8080/"
    },
    "id": "505a1bd2",
    "outputId": "86cf6c52-1b32-41de-87a0-f5c095830938"
   },
   "outputs": [
    {
     "data": {
      "text/plain": [
       "0.7840885140192111"
      ]
     },
     "execution_count": 86,
     "metadata": {},
     "output_type": "execute_result"
    }
   ],
   "source": [
    "from sklearn.metrics import r2_score\n",
    "r2_score(Y_test,Y_pred_rfr) "
   ]
  },
  {
   "cell_type": "code",
   "execution_count": 87,
   "id": "32f5c563",
   "metadata": {
    "colab": {
     "base_uri": "https://localhost:8080/"
    },
    "id": "32f5c563",
    "outputId": "5ffe712c-6075-4a87-dec8-10a853e57d97"
   },
   "outputs": [
    {
     "data": {
      "text/plain": [
       "48"
      ]
     },
     "execution_count": 87,
     "metadata": {},
     "output_type": "execute_result"
    }
   ],
   "source": [
    "import gc; gc.collect() #Garbage Collector"
   ]
  },
  {
   "cell_type": "code",
   "execution_count": null,
   "id": "5b0dfea2",
   "metadata": {
    "id": "5b0dfea2"
   },
   "outputs": [],
   "source": []
  },
  {
   "cell_type": "markdown",
   "id": "JOngH4f9n87Z",
   "metadata": {
    "id": "JOngH4f9n87Z"
   },
   "source": [
    "## Applying Hyperparameters on random forest"
   ]
  },
  {
   "cell_type": "code",
   "execution_count": 91,
   "id": "83Cb_DGPn8aH",
   "metadata": {
    "id": "83Cb_DGPn8aH"
   },
   "outputs": [],
   "source": [
    "from sklearn.model_selection import GridSearchCV\n",
    "param_grid = { 'max_depth': [8,10], 'max_features': ['auto', 'log2'], 'n_estimators': [1,10,100,500,1000]}"
   ]
  },
  {
   "cell_type": "code",
   "execution_count": 92,
   "id": "3y74Bp18n8Up",
   "metadata": {
    "id": "3y74Bp18n8Up"
   },
   "outputs": [],
   "source": [
    "rfr = RandomForestRegressor(random_state = 1)\n",
    "\n",
    "g_search = GridSearchCV(estimator = rfr, param_grid = param_grid,cv = 3, n_jobs = 1, verbose = 0, return_train_score=True)"
   ]
  },
  {
   "cell_type": "code",
   "execution_count": 93,
   "id": "21CLb_d8oQCg",
   "metadata": {
    "colab": {
     "background_save": true
    },
    "id": "21CLb_d8oQCg",
    "outputId": "991226fe-4900-40d8-9cd3-afffe76ca2d7"
   },
   "outputs": [
    {
     "data": {
      "text/plain": [
       "GridSearchCV(cv=3, estimator=RandomForestRegressor(random_state=1), n_jobs=1,\n",
       "             param_grid={'max_depth': [8, 10], 'max_features': ['auto', 'log2'],\n",
       "                         'n_estimators': [1, 10, 100, 500, 1000]},\n",
       "             return_train_score=True)"
      ]
     },
     "execution_count": 93,
     "metadata": {},
     "output_type": "execute_result"
    }
   ],
   "source": [
    "g_search.fit(X_train, Y_train)"
   ]
  },
  {
   "cell_type": "code",
   "execution_count": 94,
   "id": "wSuwWSYdvLy4",
   "metadata": {
    "colab": {
     "background_save": true
    },
    "id": "wSuwWSYdvLy4",
    "outputId": "b0a88898-6577-4bbb-dd92-4c5445f90d6b"
   },
   "outputs": [
    {
     "name": "stdout",
     "output_type": "stream",
     "text": [
      "{'max_depth': 10, 'max_features': 'log2', 'n_estimators': 1000}\n"
     ]
    }
   ],
   "source": [
    "print(g_search.best_params_)"
   ]
  },
  {
   "cell_type": "code",
   "execution_count": 95,
   "id": "a71af88e",
   "metadata": {
    "colab": {
     "background_save": true
    },
    "id": "a71af88e",
    "outputId": "11ad6fbf-805a-4953-ef28-8c737ee39a35"
   },
   "outputs": [
    {
     "data": {
      "text/plain": [
       "0.7767839372775387"
      ]
     },
     "execution_count": 95,
     "metadata": {},
     "output_type": "execute_result"
    }
   ],
   "source": [
    "g_search.score(X_test, Y_test)"
   ]
  },
  {
   "cell_type": "markdown",
   "id": "cxqP1oGjg_qd",
   "metadata": {
    "id": "cxqP1oGjg_qd"
   },
   "source": [
    "## Mean Absolute error, Mean square error , Root mean sq. error"
   ]
  },
  {
   "cell_type": "code",
   "execution_count": 96,
   "id": "FSBeFUz9fzV9",
   "metadata": {
    "colab": {
     "background_save": true
    },
    "id": "FSBeFUz9fzV9",
    "outputId": "ff86d0e2-09c2-42ec-9e26-c5593f2fecc2"
   },
   "outputs": [
    {
     "name": "stdout",
     "output_type": "stream",
     "text": [
      "Mean Absolute Error: 1526.60668147626\n",
      "Mean Squared Error: 14062841.160984306\n",
      "Root Mean Squared Error: 3750.0454878553546\n"
     ]
    }
   ],
   "source": [
    "from sklearn import metrics\n",
    "from math import sqrt\n",
    "print('Mean Absolute Error:', metrics.mean_absolute_error(Y_test,Y_pred_rfr))\n",
    "mse=metrics.mean_squared_error(Y_test,Y_pred_rfr)\n",
    "print('Mean Squared Error:', mse)\n",
    "rms=sqrt(mse)\n",
    "print('Root Mean Squared Error:',rms)"
   ]
  },
  {
   "cell_type": "markdown",
   "id": "7d346b81",
   "metadata": {
    "id": "7d346b81"
   },
   "source": [
    "# Apply Adaboost Regression"
   ]
  },
  {
   "cell_type": "code",
   "execution_count": 73,
   "id": "620b4f9b",
   "metadata": {
    "colab": {
     "background_save": true
    },
    "id": "620b4f9b",
    "scrolled": true
   },
   "outputs": [],
   "source": [
    "from sklearn.ensemble import AdaBoostRegressor\n",
    "from sklearn.datasets import make_regression"
   ]
  },
  {
   "cell_type": "code",
   "execution_count": 74,
   "id": "c145b683",
   "metadata": {
    "colab": {
     "background_save": true
    },
    "id": "c145b683"
   },
   "outputs": [],
   "source": [
    "X, Y = make_regression(n_features=4, n_informative=2,random_state=1, shuffle=False)"
   ]
  },
  {
   "cell_type": "code",
   "execution_count": 75,
   "id": "c0af3926",
   "metadata": {
    "colab": {
     "background_save": true
    },
    "id": "c0af3926"
   },
   "outputs": [],
   "source": [
    "regr = AdaBoostRegressor(random_state=1, n_estimators=1)"
   ]
  },
  {
   "cell_type": "code",
   "execution_count": 76,
   "id": "e4c82d38",
   "metadata": {
    "colab": {
     "background_save": true
    },
    "id": "e4c82d38",
    "outputId": "0ec3a44a-ba95-43bd-b088-b67c999997de"
   },
   "outputs": [
    {
     "data": {
      "text/plain": [
       "AdaBoostRegressor(n_estimators=1, random_state=1)"
      ]
     },
     "execution_count": 76,
     "metadata": {},
     "output_type": "execute_result"
    }
   ],
   "source": [
    "regr.fit(X, Y)"
   ]
  },
  {
   "cell_type": "code",
   "execution_count": 77,
   "id": "a86e3faa",
   "metadata": {
    "colab": {
     "background_save": true
    },
    "id": "a86e3faa",
    "outputId": "ce25bcb8-54d1-46d6-c91e-55af3d4c496a"
   },
   "outputs": [
    {
     "data": {
      "text/plain": [
       "0.8570347092588135"
      ]
     },
     "execution_count": 77,
     "metadata": {},
     "output_type": "execute_result"
    }
   ],
   "source": [
    "regr.score(X, Y)"
   ]
  },
  {
   "cell_type": "markdown",
   "id": "0eaHJROXjF_p",
   "metadata": {
    "id": "0eaHJROXjF_p"
   },
   "source": [
    "## Applying hyper parameters on adaboost regressor"
   ]
  },
  {
   "cell_type": "code",
   "execution_count": 78,
   "id": "487bcd9c",
   "metadata": {
    "colab": {
     "background_save": true
    },
    "id": "487bcd9c"
   },
   "outputs": [],
   "source": [
    "from sklearn.model_selection import GridSearchCV\n",
    "from sklearn.model_selection import train_test_split\n",
    "from sklearn.ensemble import AdaBoostRegressor\n",
    "from sklearn.metrics import mean_squared_error, make_scorer, r2_score"
   ]
  },
  {
   "cell_type": "code",
   "execution_count": 79,
   "id": "VqQ8u_X4nTVz",
   "metadata": {
    "colab": {
     "background_save": true
    },
    "id": "VqQ8u_X4nTVz"
   },
   "outputs": [],
   "source": [
    "params = {\n",
    " 'n_estimators': [1,100,1000],\n",
    " 'learning_rate' : [0.01, 0.05, 0.1, 0.5],\n",
    " 'loss' : ['linear', 'square', 'exponential']\n",
    " }"
   ]
  },
  {
   "cell_type": "code",
   "execution_count": 80,
   "id": "Chy9FTQ3jKEc",
   "metadata": {
    "colab": {
     "background_save": true
    },
    "id": "Chy9FTQ3jKEc",
    "outputId": "3c64aecd-e1b8-4eb6-d5b2-ebf4e824c15a"
   },
   "outputs": [
    {
     "data": {
      "text/plain": [
       "GridSearchCV(cv=5, error_score='raise', estimator=AdaBoostRegressor(),\n",
       "             param_grid={'learning_rate': [0.01, 0.05, 0.1, 0.5],\n",
       "                         'loss': ['linear', 'square', 'exponential'],\n",
       "                         'n_estimators': [1, 100, 1000]})"
      ]
     },
     "execution_count": 80,
     "metadata": {},
     "output_type": "execute_result"
    }
   ],
   "source": [
    "abreg = AdaBoostRegressor()\n",
    "gridsearch=GridSearchCV(abreg, params, cv=5, return_train_score=True)\n",
    "gridsearch.fit(X, Y)\n",
    "GridSearchCV(cv=5, error_score='raise',\n",
    "       estimator=AdaBoostRegressor(base_estimator=None, learning_rate=1.0, loss='linear', n_estimators=50, random_state=None),\n",
    "       param_grid={'n_estimators': [1, 100,1000], \n",
    "                   'learning_rate': [0.01, 0.05, 0.1, 0.5], \n",
    "                   'loss': ['linear', 'square', 'exponential']})"
   ]
  },
  {
   "cell_type": "code",
   "execution_count": 81,
   "id": "JTiUSxJ1jKBG",
   "metadata": {
    "colab": {
     "background_save": true
    },
    "id": "JTiUSxJ1jKBG",
    "outputId": "868b2750-5ada-4214-a9cd-122f1bffca6d"
   },
   "outputs": [
    {
     "name": "stdout",
     "output_type": "stream",
     "text": [
      "{'learning_rate': 0.5, 'loss': 'square', 'n_estimators': 1000}\n"
     ]
    }
   ],
   "source": [
    "print(gridsearch.best_params_)"
   ]
  },
  {
   "cell_type": "code",
   "execution_count": 82,
   "id": "FgSmUe65JdGc",
   "metadata": {
    "colab": {
     "background_save": true
    },
    "id": "FgSmUe65JdGc",
    "outputId": "49e2ea8b-e8e2-40c9-924f-72aa6ea16f59"
   },
   "outputs": [
    {
     "name": "stdout",
     "output_type": "stream",
     "text": [
      "AdaBoostRegressor(learning_rate=0.5, loss='square', n_estimators=1000)\n"
     ]
    }
   ],
   "source": [
    "best_estim=gridsearch.best_estimator_\n",
    "print(best_estim)"
   ]
  },
  {
   "cell_type": "markdown",
   "id": "1bJ6cLyemAI5",
   "metadata": {
    "id": "1bJ6cLyemAI5"
   },
   "source": [
    "### Applying Best parameters"
   ]
  },
  {
   "cell_type": "code",
   "execution_count": 83,
   "id": "FnDBNLdylTKs",
   "metadata": {
    "colab": {
     "background_save": true
    },
    "id": "FnDBNLdylTKs",
    "outputId": "8167fb0a-1ae1-4a44-edc9-55b8b8e344f7"
   },
   "outputs": [
    {
     "data": {
      "text/plain": [
       "AdaBoostRegressor(learning_rate=0.5, loss='square', n_estimators=1000)"
      ]
     },
     "execution_count": 83,
     "metadata": {},
     "output_type": "execute_result"
    }
   ],
   "source": [
    "best_estim.fit(X, Y)"
   ]
  },
  {
   "cell_type": "code",
   "execution_count": 84,
   "id": "Z0yxe01elTHp",
   "metadata": {
    "colab": {
     "background_save": true
    },
    "id": "Z0yxe01elTHp"
   },
   "outputs": [],
   "source": [
    "ytr_pred=best_estim.predict(X)"
   ]
  },
  {
   "cell_type": "code",
   "execution_count": 85,
   "id": "xwDifQ2dlTCp",
   "metadata": {
    "colab": {
     "background_save": true
    },
    "id": "xwDifQ2dlTCp"
   },
   "outputs": [],
   "source": [
    "r2 = r2_score(ytr_pred,Y)"
   ]
  },
  {
   "cell_type": "code",
   "execution_count": 86,
   "id": "bkVE_6XWlS_x",
   "metadata": {
    "colab": {
     "background_save": true
    },
    "id": "bkVE_6XWlS_x",
    "outputId": "3cde6ecf-d571-4683-e842-c9fb8556ffd7"
   },
   "outputs": [
    {
     "name": "stdout",
     "output_type": "stream",
     "text": [
      "0.9716293016122587\n"
     ]
    }
   ],
   "source": [
    "print( r2)"
   ]
  },
  {
   "cell_type": "code",
   "execution_count": null,
   "id": "Hi4nLSyKhrUZ",
   "metadata": {
    "colab": {
     "background_save": true
    },
    "id": "Hi4nLSyKhrUZ"
   },
   "outputs": [],
   "source": []
  },
  {
   "cell_type": "markdown",
   "id": "N39lJxDZT2y-",
   "metadata": {
    "id": "N39lJxDZT2y-"
   },
   "source": [
    "# NN for regression"
   ]
  },
  {
   "cell_type": "code",
   "execution_count": 87,
   "id": "DAktiiCUquas",
   "metadata": {
    "id": "DAktiiCUquas"
   },
   "outputs": [
    {
     "ename": "ModuleNotFoundError",
     "evalue": "No module named 'keras'",
     "output_type": "error",
     "traceback": [
      "\u001b[1;31m---------------------------------------------------------------------------\u001b[0m",
      "\u001b[1;31mModuleNotFoundError\u001b[0m                       Traceback (most recent call last)",
      "\u001b[1;32m~\\AppData\\Local\\Temp/ipykernel_17404/1473174908.py\u001b[0m in \u001b[0;36m<module>\u001b[1;34m\u001b[0m\n\u001b[1;32m----> 1\u001b[1;33m \u001b[1;32mimport\u001b[0m \u001b[0mkeras\u001b[0m\u001b[1;33m\u001b[0m\u001b[1;33m\u001b[0m\u001b[0m\n\u001b[0m\u001b[0;32m      2\u001b[0m \u001b[1;32mfrom\u001b[0m \u001b[0mkeras\u001b[0m\u001b[1;33m.\u001b[0m\u001b[0mmodels\u001b[0m \u001b[1;32mimport\u001b[0m \u001b[0mSequential\u001b[0m\u001b[1;33m\u001b[0m\u001b[1;33m\u001b[0m\u001b[0m\n\u001b[0;32m      3\u001b[0m \u001b[1;32mfrom\u001b[0m \u001b[0mkeras\u001b[0m\u001b[1;33m.\u001b[0m\u001b[0mlayers\u001b[0m \u001b[1;32mimport\u001b[0m \u001b[0mDense\u001b[0m\u001b[1;33m\u001b[0m\u001b[1;33m\u001b[0m\u001b[0m\n",
      "\u001b[1;31mModuleNotFoundError\u001b[0m: No module named 'keras'"
     ]
    }
   ],
   "source": [
    "import keras\n",
    "from keras.models import Sequential\n",
    "from keras.layers import Dense"
   ]
  },
  {
   "cell_type": "code",
   "execution_count": 75,
   "id": "H4eoKj2IquX5",
   "metadata": {
    "id": "H4eoKj2IquX5"
   },
   "outputs": [],
   "source": [
    "# Define model #input_dim=11,\n",
    "model = Sequential()\n",
    "model.add(Dense(500,  activation= \"relu\"))\n",
    "model.add(Dense(100, activation= \"relu\"))\n",
    "model.add(Dense(50, activation= \"relu\"))\n",
    "model.add(Dense(1))"
   ]
  },
  {
   "cell_type": "code",
   "execution_count": 77,
   "id": "3jW54kDzquVR",
   "metadata": {
    "colab": {
     "base_uri": "https://localhost:8080/"
    },
    "id": "3jW54kDzquVR",
    "outputId": "60232eef-7aa3-44c6-83c6-78e7098bcdcd"
   },
   "outputs": [
    {
     "name": "stdout",
     "output_type": "stream",
     "text": [
      "Epoch 1/50\n",
      "1407/1407 - 12s - loss: 54517400.0000 - mean_squared_error: 54517400.0000 - val_loss: 50412836.0000 - val_mean_squared_error: 50412836.0000 - 12s/epoch - 8ms/step\n",
      "Epoch 2/50\n",
      "1407/1407 - 11s - loss: 38711416.0000 - mean_squared_error: 38711416.0000 - val_loss: 35307092.0000 - val_mean_squared_error: 35307092.0000 - 11s/epoch - 8ms/step\n",
      "Epoch 3/50\n",
      "1407/1407 - 9s - loss: 33429878.0000 - mean_squared_error: 33429878.0000 - val_loss: 32558344.0000 - val_mean_squared_error: 32558344.0000 - 9s/epoch - 6ms/step\n",
      "Epoch 4/50\n",
      "1407/1407 - 7s - loss: 32548260.0000 - mean_squared_error: 32548260.0000 - val_loss: 32883842.0000 - val_mean_squared_error: 32883842.0000 - 7s/epoch - 5ms/step\n",
      "Epoch 5/50\n",
      "1407/1407 - 6s - loss: 32003246.0000 - mean_squared_error: 32003246.0000 - val_loss: 32264162.0000 - val_mean_squared_error: 32264162.0000 - 6s/epoch - 4ms/step\n",
      "Epoch 6/50\n",
      "1407/1407 - 6s - loss: 31662140.0000 - mean_squared_error: 31662140.0000 - val_loss: 32333854.0000 - val_mean_squared_error: 32333854.0000 - 6s/epoch - 5ms/step\n",
      "Epoch 7/50\n",
      "1407/1407 - 7s - loss: 31289210.0000 - mean_squared_error: 31289210.0000 - val_loss: 31607086.0000 - val_mean_squared_error: 31607086.0000 - 7s/epoch - 5ms/step\n",
      "Epoch 8/50\n",
      "1407/1407 - 6s - loss: 31076964.0000 - mean_squared_error: 31076964.0000 - val_loss: 31331240.0000 - val_mean_squared_error: 31331240.0000 - 6s/epoch - 5ms/step\n",
      "Epoch 9/50\n",
      "1407/1407 - 6s - loss: 30997980.0000 - mean_squared_error: 30997980.0000 - val_loss: 31121890.0000 - val_mean_squared_error: 31121890.0000 - 6s/epoch - 5ms/step\n",
      "Epoch 10/50\n",
      "1407/1407 - 7s - loss: 30790828.0000 - mean_squared_error: 30790828.0000 - val_loss: 30975990.0000 - val_mean_squared_error: 30975990.0000 - 7s/epoch - 5ms/step\n",
      "Epoch 11/50\n",
      "1407/1407 - 6s - loss: 30716822.0000 - mean_squared_error: 30716822.0000 - val_loss: 30789676.0000 - val_mean_squared_error: 30789676.0000 - 6s/epoch - 5ms/step\n",
      "Epoch 12/50\n",
      "1407/1407 - 7s - loss: 30459324.0000 - mean_squared_error: 30459324.0000 - val_loss: 30619492.0000 - val_mean_squared_error: 30619492.0000 - 7s/epoch - 5ms/step\n",
      "Epoch 13/50\n",
      "1407/1407 - 7s - loss: 30297054.0000 - mean_squared_error: 30297054.0000 - val_loss: 30373506.0000 - val_mean_squared_error: 30373506.0000 - 7s/epoch - 5ms/step\n",
      "Epoch 14/50\n",
      "1407/1407 - 6s - loss: 30318290.0000 - mean_squared_error: 30318290.0000 - val_loss: 30408242.0000 - val_mean_squared_error: 30408242.0000 - 6s/epoch - 4ms/step\n",
      "Epoch 15/50\n",
      "1407/1407 - 6s - loss: 30138874.0000 - mean_squared_error: 30138874.0000 - val_loss: 30190126.0000 - val_mean_squared_error: 30190126.0000 - 6s/epoch - 4ms/step\n",
      "Epoch 16/50\n",
      "1407/1407 - 6s - loss: 29981924.0000 - mean_squared_error: 29981924.0000 - val_loss: 30249590.0000 - val_mean_squared_error: 30249590.0000 - 6s/epoch - 4ms/step\n",
      "Epoch 17/50\n",
      "1407/1407 - 6s - loss: 30038004.0000 - mean_squared_error: 30038004.0000 - val_loss: 30139922.0000 - val_mean_squared_error: 30139922.0000 - 6s/epoch - 4ms/step\n",
      "Epoch 18/50\n",
      "1407/1407 - 6s - loss: 29818400.0000 - mean_squared_error: 29818400.0000 - val_loss: 30106816.0000 - val_mean_squared_error: 30106816.0000 - 6s/epoch - 4ms/step\n",
      "Epoch 19/50\n",
      "1407/1407 - 6s - loss: 29840060.0000 - mean_squared_error: 29840060.0000 - val_loss: 29982956.0000 - val_mean_squared_error: 29982956.0000 - 6s/epoch - 5ms/step\n",
      "Epoch 20/50\n",
      "1407/1407 - 6s - loss: 29678304.0000 - mean_squared_error: 29678304.0000 - val_loss: 29837956.0000 - val_mean_squared_error: 29837956.0000 - 6s/epoch - 5ms/step\n",
      "Epoch 21/50\n",
      "1407/1407 - 6s - loss: 29634188.0000 - mean_squared_error: 29634188.0000 - val_loss: 29935518.0000 - val_mean_squared_error: 29935518.0000 - 6s/epoch - 5ms/step\n",
      "Epoch 22/50\n",
      "1407/1407 - 6s - loss: 29607368.0000 - mean_squared_error: 29607368.0000 - val_loss: 29708960.0000 - val_mean_squared_error: 29708960.0000 - 6s/epoch - 5ms/step\n",
      "Epoch 23/50\n",
      "1407/1407 - 7s - loss: 29483744.0000 - mean_squared_error: 29483744.0000 - val_loss: 30365250.0000 - val_mean_squared_error: 30365250.0000 - 7s/epoch - 5ms/step\n",
      "Epoch 24/50\n",
      "1407/1407 - 6s - loss: 29593918.0000 - mean_squared_error: 29593918.0000 - val_loss: 29746294.0000 - val_mean_squared_error: 29746294.0000 - 6s/epoch - 4ms/step\n",
      "Epoch 25/50\n",
      "1407/1407 - 6s - loss: 29485494.0000 - mean_squared_error: 29485494.0000 - val_loss: 29563712.0000 - val_mean_squared_error: 29563712.0000 - 6s/epoch - 4ms/step\n",
      "Epoch 26/50\n",
      "1407/1407 - 7s - loss: 29415444.0000 - mean_squared_error: 29415444.0000 - val_loss: 29567134.0000 - val_mean_squared_error: 29567134.0000 - 7s/epoch - 5ms/step\n",
      "Epoch 27/50\n",
      "1407/1407 - 6s - loss: 29304878.0000 - mean_squared_error: 29304878.0000 - val_loss: 29462172.0000 - val_mean_squared_error: 29462172.0000 - 6s/epoch - 5ms/step\n",
      "Epoch 28/50\n",
      "1407/1407 - 6s - loss: 29342704.0000 - mean_squared_error: 29342704.0000 - val_loss: 29435960.0000 - val_mean_squared_error: 29435960.0000 - 6s/epoch - 4ms/step\n",
      "Epoch 29/50\n",
      "1407/1407 - 6s - loss: 29286054.0000 - mean_squared_error: 29286054.0000 - val_loss: 29398614.0000 - val_mean_squared_error: 29398614.0000 - 6s/epoch - 5ms/step\n",
      "Epoch 30/50\n",
      "1407/1407 - 6s - loss: 29190812.0000 - mean_squared_error: 29190812.0000 - val_loss: 29378574.0000 - val_mean_squared_error: 29378574.0000 - 6s/epoch - 5ms/step\n",
      "Epoch 31/50\n",
      "1407/1407 - 6s - loss: 29250596.0000 - mean_squared_error: 29250596.0000 - val_loss: 29386218.0000 - val_mean_squared_error: 29386218.0000 - 6s/epoch - 4ms/step\n",
      "Epoch 32/50\n",
      "1407/1407 - 7s - loss: 29135214.0000 - mean_squared_error: 29135214.0000 - val_loss: 29344748.0000 - val_mean_squared_error: 29344748.0000 - 7s/epoch - 5ms/step\n",
      "Epoch 33/50\n",
      "1407/1407 - 6s - loss: 29111154.0000 - mean_squared_error: 29111154.0000 - val_loss: 29345328.0000 - val_mean_squared_error: 29345328.0000 - 6s/epoch - 4ms/step\n",
      "Epoch 34/50\n",
      "1407/1407 - 6s - loss: 29042500.0000 - mean_squared_error: 29042500.0000 - val_loss: 29316994.0000 - val_mean_squared_error: 29316994.0000 - 6s/epoch - 4ms/step\n",
      "Epoch 35/50\n",
      "1407/1407 - 7s - loss: 28983542.0000 - mean_squared_error: 28983542.0000 - val_loss: 29270400.0000 - val_mean_squared_error: 29270400.0000 - 7s/epoch - 5ms/step\n",
      "Epoch 36/50\n",
      "1407/1407 - 7s - loss: 28926248.0000 - mean_squared_error: 28926248.0000 - val_loss: 29181810.0000 - val_mean_squared_error: 29181810.0000 - 7s/epoch - 5ms/step\n",
      "Epoch 37/50\n",
      "1407/1407 - 6s - loss: 28927742.0000 - mean_squared_error: 28927742.0000 - val_loss: 29112586.0000 - val_mean_squared_error: 29112586.0000 - 6s/epoch - 4ms/step\n",
      "Epoch 38/50\n",
      "1407/1407 - 6s - loss: 28798410.0000 - mean_squared_error: 28798410.0000 - val_loss: 29084490.0000 - val_mean_squared_error: 29084490.0000 - 6s/epoch - 5ms/step\n",
      "Epoch 39/50\n",
      "1407/1407 - 7s - loss: 28823876.0000 - mean_squared_error: 28823876.0000 - val_loss: 29120254.0000 - val_mean_squared_error: 29120254.0000 - 7s/epoch - 5ms/step\n",
      "Epoch 40/50\n",
      "1407/1407 - 6s - loss: 28679330.0000 - mean_squared_error: 28679330.0000 - val_loss: 29088478.0000 - val_mean_squared_error: 29088478.0000 - 6s/epoch - 5ms/step\n",
      "Epoch 41/50\n",
      "1407/1407 - 6s - loss: 28662434.0000 - mean_squared_error: 28662434.0000 - val_loss: 29061356.0000 - val_mean_squared_error: 29061356.0000 - 6s/epoch - 4ms/step\n",
      "Epoch 42/50\n",
      "1407/1407 - 6s - loss: 28601122.0000 - mean_squared_error: 28601122.0000 - val_loss: 28976740.0000 - val_mean_squared_error: 28976740.0000 - 6s/epoch - 5ms/step\n",
      "Epoch 43/50\n",
      "1407/1407 - 6s - loss: 28611628.0000 - mean_squared_error: 28611628.0000 - val_loss: 29009224.0000 - val_mean_squared_error: 29009224.0000 - 6s/epoch - 5ms/step\n",
      "Epoch 44/50\n",
      "1407/1407 - 6s - loss: 28609200.0000 - mean_squared_error: 28609200.0000 - val_loss: 28971536.0000 - val_mean_squared_error: 28971536.0000 - 6s/epoch - 4ms/step\n",
      "Epoch 45/50\n",
      "1407/1407 - 6s - loss: 28500454.0000 - mean_squared_error: 28500454.0000 - val_loss: 28953620.0000 - val_mean_squared_error: 28953620.0000 - 6s/epoch - 4ms/step\n",
      "Epoch 46/50\n",
      "1407/1407 - 6s - loss: 28483394.0000 - mean_squared_error: 28483394.0000 - val_loss: 29099438.0000 - val_mean_squared_error: 29099438.0000 - 6s/epoch - 5ms/step\n",
      "Epoch 47/50\n",
      "1407/1407 - 6s - loss: 28499810.0000 - mean_squared_error: 28499810.0000 - val_loss: 28939926.0000 - val_mean_squared_error: 28939926.0000 - 6s/epoch - 4ms/step\n",
      "Epoch 48/50\n",
      "1407/1407 - 6s - loss: 28448582.0000 - mean_squared_error: 28448582.0000 - val_loss: 28991402.0000 - val_mean_squared_error: 28991402.0000 - 6s/epoch - 4ms/step\n",
      "Epoch 49/50\n",
      "1407/1407 - 7s - loss: 28466322.0000 - mean_squared_error: 28466322.0000 - val_loss: 28924688.0000 - val_mean_squared_error: 28924688.0000 - 7s/epoch - 5ms/step\n",
      "Epoch 50/50\n",
      "1407/1407 - 7s - loss: 28369772.0000 - mean_squared_error: 28369772.0000 - val_loss: 28848950.0000 - val_mean_squared_error: 28848950.0000 - 7s/epoch - 5ms/step\n"
     ]
    }
   ],
   "source": [
    "model.compile(loss= \"mean_squared_error\" , optimizer=\"adam\", metrics=[\"mean_squared_error\"])\n",
    "#model.fit(X_train, y_train, epochs=20)\n",
    "history = model.fit( X_train, Y_train, epochs=50, batch_size=128, validation_split=0.3, verbose=2,shuffle=False)"
   ]
  },
  {
   "cell_type": "code",
   "execution_count": 80,
   "id": "1MuSzfzKJIbb",
   "metadata": {
    "colab": {
     "base_uri": "https://localhost:8080/"
    },
    "id": "1MuSzfzKJIbb",
    "outputId": "dd07d937-9df3-4f7b-d13f-5d52af01fd72"
   },
   "outputs": [
    {
     "name": "stdout",
     "output_type": "stream",
     "text": [
      "Model: \"sequential_1\"\n",
      "_________________________________________________________________\n",
      " Layer (type)                Output Shape              Param #   \n",
      "=================================================================\n",
      " dense_4 (Dense)             (None, 500)               6000      \n",
      "                                                                 \n",
      " dense_5 (Dense)             (None, 100)               50100     \n",
      "                                                                 \n",
      " dense_6 (Dense)             (None, 50)                5050      \n",
      "                                                                 \n",
      " dense_7 (Dense)             (None, 1)                 51        \n",
      "                                                                 \n",
      "=================================================================\n",
      "Total params: 61,201\n",
      "Trainable params: 61,201\n",
      "Non-trainable params: 0\n",
      "_________________________________________________________________\n"
     ]
    }
   ],
   "source": [
    "model.summary()"
   ]
  },
  {
   "cell_type": "code",
   "execution_count": 78,
   "id": "4U7V2D-EO9xr",
   "metadata": {
    "colab": {
     "base_uri": "https://localhost:8080/"
    },
    "id": "4U7V2D-EO9xr",
    "outputId": "6000ba89-393e-43a7-b189-6d592937dc6b"
   },
   "outputs": [
    {
     "name": "stdout",
     "output_type": "stream",
     "text": [
      "[[11854.216 ]\n",
      " [ 4073.9956]\n",
      " [21331.47  ]\n",
      " ...\n",
      " [ 3693.3083]\n",
      " [ 2386.469 ]\n",
      " [ 5406.189 ]]\n"
     ]
    }
   ],
   "source": [
    "y_pred = model.predict(X_test)\n",
    "print(y_pred)"
   ]
  },
  {
   "cell_type": "code",
   "execution_count": 82,
   "id": "2p0EIKuAquSe",
   "metadata": {
    "colab": {
     "base_uri": "https://localhost:8080/"
    },
    "id": "2p0EIKuAquSe",
    "outputId": "befacb80-0e3d-45a4-f68e-f1d5d41f730b"
   },
   "outputs": [
    {
     "name": "stdout",
     "output_type": "stream",
     "text": [
      "5264.299670944115\n",
      "5153.252627486594\n"
     ]
    }
   ],
   "source": [
    "from sklearn.metrics import mean_squared_error\n",
    "pred_train= model.predict(X_train)\n",
    "print(np.sqrt(mean_squared_error(Y_train,pred_train)))\n",
    "\n",
    "pred= model.predict(X_test)\n",
    "print(np.sqrt(mean_squared_error(Y_test,pred))) "
   ]
  },
  {
   "cell_type": "code",
   "execution_count": 83,
   "id": "7shzZYnEquPW",
   "metadata": {
    "colab": {
     "base_uri": "https://localhost:8080/",
     "height": 301
    },
    "id": "7shzZYnEquPW",
    "outputId": "ae25a0c8-05fb-4138-daea-5c52908e7cc0"
   },
   "outputs": [
    {
     "data": {
      "text/plain": [
       "[<matplotlib.lines.Line2D at 0x7f5ee1a05c10>]"
      ]
     },
     "execution_count": 83,
     "metadata": {},
     "output_type": "execute_result"
    },
    {
     "data": {
      "image/png": "[encoded data removed]",
      "text/plain": [
       "<Figure size 432x288 with 1 Axes>"
      ]
     },
     "metadata": {
      "needs_background": "light"
     },
     "output_type": "display_data"
    }
   ],
   "source": [
    "import matplotlib.pyplot as plt\n",
    "plt.plot(history.history['loss'])\n",
    "plt.title('Epoch=50',fontsize=16)\n",
    "plt.plot(history.history['val_loss'])"
   ]
  },
  {
   "cell_type": "code",
   "execution_count": 84,
   "id": "NbPBR5ZWtzPs",
   "metadata": {
    "colab": {
     "base_uri": "https://localhost:8080/"
    },
    "id": "NbPBR5ZWtzPs",
    "outputId": "fa8cf09d-fc4b-46bd-ba87-2f67abb1c072"
   },
   "outputs": [
    {
     "name": "stdout",
     "output_type": "stream",
     "text": [
      "Epoch 1/100\n",
      "1407/1407 - 8s - loss: 28475472.0000 - mean_squared_error: 28475472.0000 - val_loss: 28861168.0000 - val_mean_squared_error: 28861168.0000 - 8s/epoch - 6ms/step\n",
      "Epoch 2/100\n",
      "1407/1407 - 6s - loss: 28370130.0000 - mean_squared_error: 28370130.0000 - val_loss: 29069174.0000 - val_mean_squared_error: 29069174.0000 - 6s/epoch - 5ms/step\n",
      "Epoch 3/100\n",
      "1407/1407 - 6s - loss: 28306642.0000 - mean_squared_error: 28306642.0000 - val_loss: 28968848.0000 - val_mean_squared_error: 28968848.0000 - 6s/epoch - 5ms/step\n",
      "Epoch 4/100\n",
      "1407/1407 - 6s - loss: 28268148.0000 - mean_squared_error: 28268148.0000 - val_loss: 28764472.0000 - val_mean_squared_error: 28764472.0000 - 6s/epoch - 5ms/step\n",
      "Epoch 5/100\n",
      "1407/1407 - 6s - loss: 28210188.0000 - mean_squared_error: 28210188.0000 - val_loss: 28869172.0000 - val_mean_squared_error: 28869172.0000 - 6s/epoch - 5ms/step\n",
      "Epoch 6/100\n",
      "1407/1407 - 6s - loss: 28234810.0000 - mean_squared_error: 28234810.0000 - val_loss: 28833510.0000 - val_mean_squared_error: 28833510.0000 - 6s/epoch - 5ms/step\n",
      "Epoch 7/100\n",
      "1407/1407 - 6s - loss: 28242416.0000 - mean_squared_error: 28242416.0000 - val_loss: 28718442.0000 - val_mean_squared_error: 28718442.0000 - 6s/epoch - 5ms/step\n",
      "Epoch 8/100\n",
      "1407/1407 - 6s - loss: 28169790.0000 - mean_squared_error: 28169790.0000 - val_loss: 28767792.0000 - val_mean_squared_error: 28767792.0000 - 6s/epoch - 4ms/step\n",
      "Epoch 9/100\n",
      "1407/1407 - 7s - loss: 28207130.0000 - mean_squared_error: 28207130.0000 - val_loss: 28758496.0000 - val_mean_squared_error: 28758496.0000 - 7s/epoch - 5ms/step\n",
      "Epoch 10/100\n",
      "1407/1407 - 7s - loss: 28173850.0000 - mean_squared_error: 28173850.0000 - val_loss: 28869284.0000 - val_mean_squared_error: 28869284.0000 - 7s/epoch - 5ms/step\n",
      "Epoch 11/100\n",
      "1407/1407 - 7s - loss: 28117296.0000 - mean_squared_error: 28117296.0000 - val_loss: 28770978.0000 - val_mean_squared_error: 28770978.0000 - 7s/epoch - 5ms/step\n",
      "Epoch 12/100\n",
      "1407/1407 - 6s - loss: 28143590.0000 - mean_squared_error: 28143590.0000 - val_loss: 28811776.0000 - val_mean_squared_error: 28811776.0000 - 6s/epoch - 5ms/step\n",
      "Epoch 13/100\n",
      "1407/1407 - 6s - loss: 28194844.0000 - mean_squared_error: 28194844.0000 - val_loss: 28805158.0000 - val_mean_squared_error: 28805158.0000 - 6s/epoch - 4ms/step\n",
      "Epoch 14/100\n",
      "1407/1407 - 7s - loss: 28068426.0000 - mean_squared_error: 28068426.0000 - val_loss: 28836332.0000 - val_mean_squared_error: 28836332.0000 - 7s/epoch - 5ms/step\n",
      "Epoch 15/100\n",
      "1407/1407 - 6s - loss: 28074350.0000 - mean_squared_error: 28074350.0000 - val_loss: 28748238.0000 - val_mean_squared_error: 28748238.0000 - 6s/epoch - 5ms/step\n",
      "Epoch 16/100\n",
      "1407/1407 - 6s - loss: 28015990.0000 - mean_squared_error: 28015990.0000 - val_loss: 28795808.0000 - val_mean_squared_error: 28795808.0000 - 6s/epoch - 5ms/step\n",
      "Epoch 17/100\n",
      "1407/1407 - 7s - loss: 28029496.0000 - mean_squared_error: 28029496.0000 - val_loss: 28938638.0000 - val_mean_squared_error: 28938638.0000 - 7s/epoch - 5ms/step\n",
      "Epoch 18/100\n",
      "1407/1407 - 6s - loss: 27963928.0000 - mean_squared_error: 27963928.0000 - val_loss: 28764476.0000 - val_mean_squared_error: 28764476.0000 - 6s/epoch - 5ms/step\n",
      "Epoch 19/100\n",
      "1407/1407 - 6s - loss: 27915930.0000 - mean_squared_error: 27915930.0000 - val_loss: 28625396.0000 - val_mean_squared_error: 28625396.0000 - 6s/epoch - 4ms/step\n",
      "Epoch 20/100\n",
      "1407/1407 - 6s - loss: 27887866.0000 - mean_squared_error: 27887866.0000 - val_loss: 28851794.0000 - val_mean_squared_error: 28851794.0000 - 6s/epoch - 4ms/step\n",
      "Epoch 21/100\n",
      "1407/1407 - 6s - loss: 27951310.0000 - mean_squared_error: 27951310.0000 - val_loss: 28825006.0000 - val_mean_squared_error: 28825006.0000 - 6s/epoch - 4ms/step\n",
      "Epoch 22/100\n",
      "1407/1407 - 6s - loss: 27806284.0000 - mean_squared_error: 27806284.0000 - val_loss: 28713266.0000 - val_mean_squared_error: 28713266.0000 - 6s/epoch - 5ms/step\n",
      "Epoch 23/100\n",
      "1407/1407 - 6s - loss: 27781180.0000 - mean_squared_error: 27781180.0000 - val_loss: 28697952.0000 - val_mean_squared_error: 28697952.0000 - 6s/epoch - 5ms/step\n",
      "Epoch 24/100\n",
      "1407/1407 - 6s - loss: 27934660.0000 - mean_squared_error: 27934660.0000 - val_loss: 28601208.0000 - val_mean_squared_error: 28601208.0000 - 6s/epoch - 5ms/step\n",
      "Epoch 25/100\n",
      "1407/1407 - 6s - loss: 27842956.0000 - mean_squared_error: 27842956.0000 - val_loss: 28655814.0000 - val_mean_squared_error: 28655814.0000 - 6s/epoch - 4ms/step\n",
      "Epoch 26/100\n",
      "1407/1407 - 6s - loss: 27742058.0000 - mean_squared_error: 27742058.0000 - val_loss: 28589406.0000 - val_mean_squared_error: 28589406.0000 - 6s/epoch - 4ms/step\n",
      "Epoch 27/100\n",
      "1407/1407 - 6s - loss: 27702554.0000 - mean_squared_error: 27702554.0000 - val_loss: 28742022.0000 - val_mean_squared_error: 28742022.0000 - 6s/epoch - 4ms/step\n",
      "Epoch 28/100\n",
      "1407/1407 - 6s - loss: 27696262.0000 - mean_squared_error: 27696262.0000 - val_loss: 28597292.0000 - val_mean_squared_error: 28597292.0000 - 6s/epoch - 4ms/step\n",
      "Epoch 29/100\n",
      "1407/1407 - 7s - loss: 27661534.0000 - mean_squared_error: 27661534.0000 - val_loss: 28618924.0000 - val_mean_squared_error: 28618924.0000 - 7s/epoch - 5ms/step\n",
      "Epoch 30/100\n",
      "1407/1407 - 6s - loss: 27623044.0000 - mean_squared_error: 27623044.0000 - val_loss: 28639838.0000 - val_mean_squared_error: 28639838.0000 - 6s/epoch - 4ms/step\n",
      "Epoch 31/100\n",
      "1407/1407 - 6s - loss: 27624802.0000 - mean_squared_error: 27624802.0000 - val_loss: 28581130.0000 - val_mean_squared_error: 28581130.0000 - 6s/epoch - 5ms/step\n",
      "Epoch 32/100\n",
      "1407/1407 - 6s - loss: 27670154.0000 - mean_squared_error: 27670154.0000 - val_loss: 28720326.0000 - val_mean_squared_error: 28720326.0000 - 6s/epoch - 5ms/step\n",
      "Epoch 33/100\n",
      "1407/1407 - 7s - loss: 27570826.0000 - mean_squared_error: 27570826.0000 - val_loss: 28630226.0000 - val_mean_squared_error: 28630226.0000 - 7s/epoch - 5ms/step\n",
      "Epoch 34/100\n",
      "1407/1407 - 7s - loss: 27590692.0000 - mean_squared_error: 27590692.0000 - val_loss: 28611228.0000 - val_mean_squared_error: 28611228.0000 - 7s/epoch - 5ms/step\n",
      "Epoch 35/100\n",
      "1407/1407 - 6s - loss: 27559352.0000 - mean_squared_error: 27559352.0000 - val_loss: 28680190.0000 - val_mean_squared_error: 28680190.0000 - 6s/epoch - 5ms/step\n",
      "Epoch 36/100\n",
      "1407/1407 - 6s - loss: 27531612.0000 - mean_squared_error: 27531612.0000 - val_loss: 28687138.0000 - val_mean_squared_error: 28687138.0000 - 6s/epoch - 5ms/step\n",
      "Epoch 37/100\n",
      "1407/1407 - 6s - loss: 27588560.0000 - mean_squared_error: 27588560.0000 - val_loss: 28662436.0000 - val_mean_squared_error: 28662436.0000 - 6s/epoch - 5ms/step\n",
      "Epoch 38/100\n",
      "1407/1407 - 6s - loss: 27572936.0000 - mean_squared_error: 27572936.0000 - val_loss: 28682670.0000 - val_mean_squared_error: 28682670.0000 - 6s/epoch - 4ms/step\n",
      "Epoch 39/100\n",
      "1407/1407 - 7s - loss: 27592040.0000 - mean_squared_error: 27592040.0000 - val_loss: 28653554.0000 - val_mean_squared_error: 28653554.0000 - 7s/epoch - 5ms/step\n",
      "Epoch 40/100\n",
      "1407/1407 - 6s - loss: 27547810.0000 - mean_squared_error: 27547810.0000 - val_loss: 28623628.0000 - val_mean_squared_error: 28623628.0000 - 6s/epoch - 4ms/step\n",
      "Epoch 41/100\n",
      "1407/1407 - 6s - loss: 27500950.0000 - mean_squared_error: 27500950.0000 - val_loss: 28684838.0000 - val_mean_squared_error: 28684838.0000 - 6s/epoch - 5ms/step\n",
      "Epoch 42/100\n",
      "1407/1407 - 7s - loss: 27506294.0000 - mean_squared_error: 27506294.0000 - val_loss: 28712104.0000 - val_mean_squared_error: 28712104.0000 - 7s/epoch - 5ms/step\n",
      "Epoch 43/100\n",
      "1407/1407 - 6s - loss: 27489162.0000 - mean_squared_error: 27489162.0000 - val_loss: 28634956.0000 - val_mean_squared_error: 28634956.0000 - 6s/epoch - 4ms/step\n",
      "Epoch 44/100\n",
      "1407/1407 - 6s - loss: 27454912.0000 - mean_squared_error: 27454912.0000 - val_loss: 28566106.0000 - val_mean_squared_error: 28566106.0000 - 6s/epoch - 5ms/step\n",
      "Epoch 45/100\n",
      "1407/1407 - 6s - loss: 27472138.0000 - mean_squared_error: 27472138.0000 - val_loss: 28604090.0000 - val_mean_squared_error: 28604090.0000 - 6s/epoch - 5ms/step\n",
      "Epoch 46/100\n",
      "1407/1407 - 6s - loss: 27359698.0000 - mean_squared_error: 27359698.0000 - val_loss: 28661718.0000 - val_mean_squared_error: 28661718.0000 - 6s/epoch - 4ms/step\n",
      "Epoch 47/100\n",
      "1407/1407 - 6s - loss: 27385034.0000 - mean_squared_error: 27385034.0000 - val_loss: 28513320.0000 - val_mean_squared_error: 28513320.0000 - 6s/epoch - 5ms/step\n",
      "Epoch 48/100\n",
      "1407/1407 - 7s - loss: 27344968.0000 - mean_squared_error: 27344968.0000 - val_loss: 28546872.0000 - val_mean_squared_error: 28546872.0000 - 7s/epoch - 5ms/step\n",
      "Epoch 49/100\n",
      "1407/1407 - 6s - loss: 27373126.0000 - mean_squared_error: 27373126.0000 - val_loss: 28566754.0000 - val_mean_squared_error: 28566754.0000 - 6s/epoch - 5ms/step\n",
      "Epoch 50/100\n",
      "1407/1407 - 6s - loss: 27338440.0000 - mean_squared_error: 27338440.0000 - val_loss: 28472454.0000 - val_mean_squared_error: 28472454.0000 - 6s/epoch - 5ms/step\n",
      "Epoch 51/100\n",
      "1407/1407 - 7s - loss: 27241298.0000 - mean_squared_error: 27241298.0000 - val_loss: 28515090.0000 - val_mean_squared_error: 28515090.0000 - 7s/epoch - 5ms/step\n",
      "Epoch 52/100\n",
      "1407/1407 - 7s - loss: 27206416.0000 - mean_squared_error: 27206416.0000 - val_loss: 28489192.0000 - val_mean_squared_error: 28489192.0000 - 7s/epoch - 5ms/step\n",
      "Epoch 53/100\n",
      "1407/1407 - 6s - loss: 27231608.0000 - mean_squared_error: 27231608.0000 - val_loss: 28542168.0000 - val_mean_squared_error: 28542168.0000 - 6s/epoch - 5ms/step\n",
      "Epoch 54/100\n",
      "1407/1407 - 7s - loss: 27216646.0000 - mean_squared_error: 27216646.0000 - val_loss: 28432374.0000 - val_mean_squared_error: 28432374.0000 - 7s/epoch - 5ms/step\n",
      "Epoch 55/100\n",
      "1407/1407 - 6s - loss: 27236770.0000 - mean_squared_error: 27236770.0000 - val_loss: 28457586.0000 - val_mean_squared_error: 28457586.0000 - 6s/epoch - 5ms/step\n",
      "Epoch 56/100\n",
      "1407/1407 - 6s - loss: 27223696.0000 - mean_squared_error: 27223696.0000 - val_loss: 28402494.0000 - val_mean_squared_error: 28402494.0000 - 6s/epoch - 5ms/step\n",
      "Epoch 57/100\n",
      "1407/1407 - 7s - loss: 27195382.0000 - mean_squared_error: 27195382.0000 - val_loss: 28492748.0000 - val_mean_squared_error: 28492748.0000 - 7s/epoch - 5ms/step\n",
      "Epoch 58/100\n",
      "1407/1407 - 6s - loss: 27312500.0000 - mean_squared_error: 27312500.0000 - val_loss: 28479244.0000 - val_mean_squared_error: 28479244.0000 - 6s/epoch - 5ms/step\n",
      "Epoch 59/100\n",
      "1407/1407 - 6s - loss: 27191148.0000 - mean_squared_error: 27191148.0000 - val_loss: 28606316.0000 - val_mean_squared_error: 28606316.0000 - 6s/epoch - 4ms/step\n",
      "Epoch 60/100\n",
      "1407/1407 - 7s - loss: 27248436.0000 - mean_squared_error: 27248436.0000 - val_loss: 28448438.0000 - val_mean_squared_error: 28448438.0000 - 7s/epoch - 5ms/step\n",
      "Epoch 61/100\n",
      "1407/1407 - 6s - loss: 27071564.0000 - mean_squared_error: 27071564.0000 - val_loss: 28526830.0000 - val_mean_squared_error: 28526830.0000 - 6s/epoch - 5ms/step\n",
      "Epoch 62/100\n",
      "1407/1407 - 6s - loss: 27125006.0000 - mean_squared_error: 27125006.0000 - val_loss: 28485990.0000 - val_mean_squared_error: 28485990.0000 - 6s/epoch - 4ms/step\n",
      "Epoch 63/100\n",
      "1407/1407 - 6s - loss: 27127094.0000 - mean_squared_error: 27127094.0000 - val_loss: 28398352.0000 - val_mean_squared_error: 28398352.0000 - 6s/epoch - 5ms/step\n",
      "Epoch 64/100\n",
      "1407/1407 - 6s - loss: 27279232.0000 - mean_squared_error: 27279232.0000 - val_loss: 28549180.0000 - val_mean_squared_error: 28549180.0000 - 6s/epoch - 5ms/step\n",
      "Epoch 65/100\n",
      "1407/1407 - 6s - loss: 27141500.0000 - mean_squared_error: 27141500.0000 - val_loss: 28612132.0000 - val_mean_squared_error: 28612132.0000 - 6s/epoch - 5ms/step\n",
      "Epoch 66/100\n",
      "1407/1407 - 6s - loss: 27143714.0000 - mean_squared_error: 27143714.0000 - val_loss: 28431410.0000 - val_mean_squared_error: 28431410.0000 - 6s/epoch - 5ms/step\n",
      "Epoch 67/100\n",
      "1407/1407 - 6s - loss: 27089902.0000 - mean_squared_error: 27089902.0000 - val_loss: 28481092.0000 - val_mean_squared_error: 28481092.0000 - 6s/epoch - 4ms/step\n",
      "Epoch 68/100\n",
      "1407/1407 - 6s - loss: 27098104.0000 - mean_squared_error: 27098104.0000 - val_loss: 28300502.0000 - val_mean_squared_error: 28300502.0000 - 6s/epoch - 4ms/step\n",
      "Epoch 69/100\n",
      "1407/1407 - 6s - loss: 27167390.0000 - mean_squared_error: 27167390.0000 - val_loss: 28352246.0000 - val_mean_squared_error: 28352246.0000 - 6s/epoch - 4ms/step\n",
      "Epoch 70/100\n",
      "1407/1407 - 7s - loss: 27141970.0000 - mean_squared_error: 27141970.0000 - val_loss: 28773162.0000 - val_mean_squared_error: 28773162.0000 - 7s/epoch - 5ms/step\n",
      "Epoch 71/100\n",
      "1407/1407 - 6s - loss: 27110728.0000 - mean_squared_error: 27110728.0000 - val_loss: 28516016.0000 - val_mean_squared_error: 28516016.0000 - 6s/epoch - 4ms/step\n",
      "Epoch 72/100\n",
      "1407/1407 - 6s - loss: 27039062.0000 - mean_squared_error: 27039062.0000 - val_loss: 28367330.0000 - val_mean_squared_error: 28367330.0000 - 6s/epoch - 5ms/step\n",
      "Epoch 73/100\n",
      "1407/1407 - 6s - loss: 26997226.0000 - mean_squared_error: 26997226.0000 - val_loss: 28468956.0000 - val_mean_squared_error: 28468956.0000 - 6s/epoch - 4ms/step\n",
      "Epoch 74/100\n",
      "1407/1407 - 6s - loss: 27002304.0000 - mean_squared_error: 27002304.0000 - val_loss: 28309444.0000 - val_mean_squared_error: 28309444.0000 - 6s/epoch - 4ms/step\n",
      "Epoch 75/100\n",
      "1407/1407 - 6s - loss: 27095630.0000 - mean_squared_error: 27095630.0000 - val_loss: 28213152.0000 - val_mean_squared_error: 28213152.0000 - 6s/epoch - 5ms/step\n",
      "Epoch 76/100\n",
      "1407/1407 - 7s - loss: 26960914.0000 - mean_squared_error: 26960914.0000 - val_loss: 28570006.0000 - val_mean_squared_error: 28570006.0000 - 7s/epoch - 5ms/step\n",
      "Epoch 77/100\n",
      "1407/1407 - 6s - loss: 26887888.0000 - mean_squared_error: 26887888.0000 - val_loss: 28298910.0000 - val_mean_squared_error: 28298910.0000 - 6s/epoch - 5ms/step\n",
      "Epoch 78/100\n",
      "1407/1407 - 6s - loss: 26963060.0000 - mean_squared_error: 26963060.0000 - val_loss: 28347228.0000 - val_mean_squared_error: 28347228.0000 - 6s/epoch - 5ms/step\n",
      "Epoch 79/100\n",
      "1407/1407 - 7s - loss: 26958960.0000 - mean_squared_error: 26958960.0000 - val_loss: 28434036.0000 - val_mean_squared_error: 28434036.0000 - 7s/epoch - 5ms/step\n",
      "Epoch 80/100\n",
      "1407/1407 - 6s - loss: 26976552.0000 - mean_squared_error: 26976552.0000 - val_loss: 28224910.0000 - val_mean_squared_error: 28224910.0000 - 6s/epoch - 5ms/step\n",
      "Epoch 81/100\n",
      "1407/1407 - 6s - loss: 26969144.0000 - mean_squared_error: 26969144.0000 - val_loss: 28469832.0000 - val_mean_squared_error: 28469832.0000 - 6s/epoch - 5ms/step\n",
      "Epoch 82/100\n",
      "1407/1407 - 6s - loss: 26901140.0000 - mean_squared_error: 26901140.0000 - val_loss: 28510998.0000 - val_mean_squared_error: 28510998.0000 - 6s/epoch - 5ms/step\n",
      "Epoch 83/100\n",
      "1407/1407 - 6s - loss: 26979910.0000 - mean_squared_error: 26979910.0000 - val_loss: 28352952.0000 - val_mean_squared_error: 28352952.0000 - 6s/epoch - 4ms/step\n",
      "Epoch 84/100\n",
      "1407/1407 - 6s - loss: 26853082.0000 - mean_squared_error: 26853082.0000 - val_loss: 28259794.0000 - val_mean_squared_error: 28259794.0000 - 6s/epoch - 4ms/step\n",
      "Epoch 85/100\n",
      "1407/1407 - 7s - loss: 26852252.0000 - mean_squared_error: 26852252.0000 - val_loss: 28227542.0000 - val_mean_squared_error: 28227542.0000 - 7s/epoch - 5ms/step\n",
      "Epoch 86/100\n",
      "1407/1407 - 6s - loss: 26875136.0000 - mean_squared_error: 26875136.0000 - val_loss: 28258568.0000 - val_mean_squared_error: 28258568.0000 - 6s/epoch - 4ms/step\n",
      "Epoch 87/100\n",
      "1407/1407 - 6s - loss: 26849082.0000 - mean_squared_error: 26849082.0000 - val_loss: 28395190.0000 - val_mean_squared_error: 28395190.0000 - 6s/epoch - 4ms/step\n",
      "Epoch 88/100\n",
      "1407/1407 - 6s - loss: 26850368.0000 - mean_squared_error: 26850368.0000 - val_loss: 28348030.0000 - val_mean_squared_error: 28348030.0000 - 6s/epoch - 5ms/step\n",
      "Epoch 89/100\n",
      "1407/1407 - 7s - loss: 26954926.0000 - mean_squared_error: 26954926.0000 - val_loss: 28422152.0000 - val_mean_squared_error: 28422152.0000 - 7s/epoch - 5ms/step\n",
      "Epoch 90/100\n",
      "1407/1407 - 6s - loss: 26872014.0000 - mean_squared_error: 26872014.0000 - val_loss: 28236970.0000 - val_mean_squared_error: 28236970.0000 - 6s/epoch - 5ms/step\n",
      "Epoch 91/100\n",
      "1407/1407 - 6s - loss: 26752658.0000 - mean_squared_error: 26752658.0000 - val_loss: 28345856.0000 - val_mean_squared_error: 28345856.0000 - 6s/epoch - 4ms/step\n",
      "Epoch 92/100\n",
      "1407/1407 - 6s - loss: 26817922.0000 - mean_squared_error: 26817922.0000 - val_loss: 28359926.0000 - val_mean_squared_error: 28359926.0000 - 6s/epoch - 5ms/step\n",
      "Epoch 93/100\n",
      "1407/1407 - 6s - loss: 26837632.0000 - mean_squared_error: 26837632.0000 - val_loss: 28146076.0000 - val_mean_squared_error: 28146076.0000 - 6s/epoch - 4ms/step\n",
      "Epoch 94/100\n",
      "1407/1407 - 6s - loss: 26800528.0000 - mean_squared_error: 26800528.0000 - val_loss: 28197902.0000 - val_mean_squared_error: 28197902.0000 - 6s/epoch - 4ms/step\n",
      "Epoch 95/100\n",
      "1407/1407 - 6s - loss: 26876372.0000 - mean_squared_error: 26876372.0000 - val_loss: 28264368.0000 - val_mean_squared_error: 28264368.0000 - 6s/epoch - 4ms/step\n",
      "Epoch 96/100\n",
      "1407/1407 - 6s - loss: 26755898.0000 - mean_squared_error: 26755898.0000 - val_loss: 28250006.0000 - val_mean_squared_error: 28250006.0000 - 6s/epoch - 4ms/step\n",
      "Epoch 97/100\n",
      "1407/1407 - 6s - loss: 26775862.0000 - mean_squared_error: 26775862.0000 - val_loss: 28142386.0000 - val_mean_squared_error: 28142386.0000 - 6s/epoch - 5ms/step\n",
      "Epoch 98/100\n",
      "1407/1407 - 6s - loss: 26791788.0000 - mean_squared_error: 26791788.0000 - val_loss: 28269534.0000 - val_mean_squared_error: 28269534.0000 - 6s/epoch - 4ms/step\n",
      "Epoch 99/100\n",
      "1407/1407 - 6s - loss: 26750668.0000 - mean_squared_error: 26750668.0000 - val_loss: 28314564.0000 - val_mean_squared_error: 28314564.0000 - 6s/epoch - 5ms/step\n",
      "Epoch 100/100\n",
      "1407/1407 - 6s - loss: 26817258.0000 - mean_squared_error: 26817258.0000 - val_loss: 28229040.0000 - val_mean_squared_error: 28229040.0000 - 6s/epoch - 5ms/step\n"
     ]
    }
   ],
   "source": [
    "model.compile(loss= \"mean_squared_error\" , optimizer=\"adam\", metrics=[\"mean_squared_error\"])\n",
    "#model.fit(X_train, y_train, epochs=20)\n",
    "history = model.fit( X_train, Y_train, epochs=100, batch_size=128, validation_split=0.3, verbose=2,shuffle=False)"
   ]
  },
  {
   "cell_type": "code",
   "execution_count": 85,
   "id": "EqvRPfp35kqA",
   "metadata": {
    "colab": {
     "base_uri": "https://localhost:8080/"
    },
    "id": "EqvRPfp35kqA",
    "outputId": "f4055983-f042-4a3b-9c7f-e9fa3cf57f98"
   },
   "outputs": [
    {
     "name": "stdout",
     "output_type": "stream",
     "text": [
      "5185.794704736564\n",
      "5078.505575088967\n"
     ]
    }
   ],
   "source": [
    "pred_train= model.predict(X_train)\n",
    "print(np.sqrt(mean_squared_error(Y_train,pred_train)))\n",
    "\n",
    "pred= model.predict(X_test)\n",
    "print(np.sqrt(mean_squared_error(Y_test,pred))) "
   ]
  },
  {
   "cell_type": "code",
   "execution_count": 86,
   "id": "UpavimTbtzMj",
   "metadata": {
    "colab": {
     "base_uri": "https://localhost:8080/",
     "height": 301
    },
    "id": "UpavimTbtzMj",
    "outputId": "4ad8d557-b491-41a1-ec89-fe86281aa841"
   },
   "outputs": [
    {
     "data": {
      "text/plain": [
       "[<matplotlib.lines.Line2D at 0x7f5ee173e110>]"
      ]
     },
     "execution_count": 86,
     "metadata": {},
     "output_type": "execute_result"
    },
    {
     "data": {
      "image/png": "[encoded data removed]",
      "text/plain": [
       "<Figure size 432x288 with 1 Axes>"
      ]
     },
     "metadata": {
      "needs_background": "light"
     },
     "output_type": "display_data"
    }
   ],
   "source": [
    "import matplotlib.pyplot as plt\n",
    "plt.plot(history.history['loss']) #blue\n",
    "plt.title('Epoch=100',fontsize=16)\n",
    "plt.plot(history.history['val_loss']) #orange"
   ]
  },
  {
   "cell_type": "markdown",
   "id": "jS5BiYTOe23v",
   "metadata": {
    "id": "jS5BiYTOe23v"
   },
   "source": [
    "# saving model "
   ]
  },
  {
   "cell_type": "code",
   "execution_count": 97,
   "id": "qD7DEDnue2MR",
   "metadata": {
    "colab": {
     "background_save": true
    },
    "id": "qD7DEDnue2MR"
   },
   "outputs": [],
   "source": [
    "import pickle\n",
    "pickle.dump(rfr,open('car.pkl','wb'))"
   ]
  },
  {
   "cell_type": "code",
   "execution_count": null,
   "id": "A6PqN_2nmcMh",
   "metadata": {
    "colab": {
     "background_save": true
    },
    "id": "A6PqN_2nmcMh"
   },
   "outputs": [],
   "source": []
  },
  {
   "cell_type": "code",
   "execution_count": null,
   "id": "6cx8ElY0mcJ4",
   "metadata": {
    "colab": {
     "background_save": true
    },
    "id": "6cx8ElY0mcJ4"
   },
   "outputs": [],
   "source": []
  },
  {
   "cell_type": "code",
   "execution_count": null,
   "id": "nMFUaVxbmcD4",
   "metadata": {
    "colab": {
     "background_save": true
    },
    "id": "nMFUaVxbmcD4"
   },
   "outputs": [],
   "source": []
  }
 ],
 "metadata": {
  "colab": {
   "collapsed_sections": [
    "29f79535",
    "e414a088",
    "90d697dd",
    "bf4da1ba",
    "5f4f9b74",
    "297c37e6",
    "7d346b81",
    "jS5BiYTOe23v"
   ],
   "name": "Used car price prediction.ipynb",
   "provenance": []
  },
  "kernelspec": {
   "display_name": "Python 3 (ipykernel)",
   "language": "python",
   "name": "python3"
  },
  "language_info": {
   "codemirror_mode": {
    "name": "ipython",
    "version": 3
   },
   "file_extension": ".py",
   "mimetype": "text/x-python",
   "name": "python",
   "nbconvert_exporter": "python",
   "pygments_lexer": "ipython3",
   "version": "3.9.7"
  }
 },
 "nbformat": 4,
 "nbformat_minor": 5
}
